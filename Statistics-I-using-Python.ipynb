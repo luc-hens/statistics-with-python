{
 "cells": [
  {
   "cell_type": "markdown",
   "metadata": {},
   "source": [
    "   # Statistics I: Technology help — Python"
   ]
  },
  {
   "cell_type": "markdown",
   "metadata": {},
   "source": [
    "## Technology Help: Data (Ch. 1)"
   ]
  },
  {
   "cell_type": "markdown",
   "metadata": {},
   "source": [
    "To import a text file with data in Python, you first have find the path to the file. In the example, the path to the data file students.csv is: /Users/luchens/Documents/Data/students.csv   (This is for macOS; I think Windows uses backslashes \\ -- check)\n",
    "\n",
    "(Note: in read_csv I had to add the option skipinitialspace=True (\"Skip spaces after delimiter\") because there were spaces before the variable names. Otherwise, read_csv assigns a name to the variable that includes the spaces. Still, this did not work with the first variable (sex) because it is the first variable, so the spaces are not after the delimiter. So better omit spaces before a variable name.) "
   ]
  },
  {
   "cell_type": "code",
   "execution_count": 58,
   "metadata": {},
   "outputs": [
    {
     "data": {
      "text/html": [
       "<div>\n",
       "<style scoped>\n",
       "    .dataframe tbody tr th:only-of-type {\n",
       "        vertical-align: middle;\n",
       "    }\n",
       "\n",
       "    .dataframe tbody tr th {\n",
       "        vertical-align: top;\n",
       "    }\n",
       "\n",
       "    .dataframe thead th {\n",
       "        text-align: right;\n",
       "    }\n",
       "</style>\n",
       "<table border=\"1\" class=\"dataframe\">\n",
       "  <thead>\n",
       "    <tr style=\"text-align: right;\">\n",
       "      <th></th>\n",
       "      <th>case</th>\n",
       "      <th>sex</th>\n",
       "      <th>height</th>\n",
       "      <th>weight</th>\n",
       "      <th>major</th>\n",
       "    </tr>\n",
       "  </thead>\n",
       "  <tbody>\n",
       "    <tr>\n",
       "      <th>0</th>\n",
       "      <td>1</td>\n",
       "      <td>Female</td>\n",
       "      <td>172</td>\n",
       "      <td>63</td>\n",
       "      <td>Business</td>\n",
       "    </tr>\n",
       "    <tr>\n",
       "      <th>1</th>\n",
       "      <td>2</td>\n",
       "      <td>Female</td>\n",
       "      <td>170</td>\n",
       "      <td>70</td>\n",
       "      <td>International Affairs</td>\n",
       "    </tr>\n",
       "    <tr>\n",
       "      <th>2</th>\n",
       "      <td>3</td>\n",
       "      <td>Female</td>\n",
       "      <td>170</td>\n",
       "      <td>52</td>\n",
       "      <td>Other</td>\n",
       "    </tr>\n",
       "    <tr>\n",
       "      <th>3</th>\n",
       "      <td>4</td>\n",
       "      <td>Female</td>\n",
       "      <td>171</td>\n",
       "      <td>52</td>\n",
       "      <td>Communications</td>\n",
       "    </tr>\n",
       "    <tr>\n",
       "      <th>4</th>\n",
       "      <td>5</td>\n",
       "      <td>Male</td>\n",
       "      <td>186</td>\n",
       "      <td>90</td>\n",
       "      <td>Business</td>\n",
       "    </tr>\n",
       "    <tr>\n",
       "      <th>5</th>\n",
       "      <td>6</td>\n",
       "      <td>Male</td>\n",
       "      <td>183</td>\n",
       "      <td>79</td>\n",
       "      <td>Business</td>\n",
       "    </tr>\n",
       "    <tr>\n",
       "      <th>6</th>\n",
       "      <td>7</td>\n",
       "      <td>Male</td>\n",
       "      <td>170</td>\n",
       "      <td>66</td>\n",
       "      <td>Communications</td>\n",
       "    </tr>\n",
       "    <tr>\n",
       "      <th>7</th>\n",
       "      <td>8</td>\n",
       "      <td>Female</td>\n",
       "      <td>169</td>\n",
       "      <td>56</td>\n",
       "      <td>Business</td>\n",
       "    </tr>\n",
       "    <tr>\n",
       "      <th>8</th>\n",
       "      <td>9</td>\n",
       "      <td>Male</td>\n",
       "      <td>175</td>\n",
       "      <td>75</td>\n",
       "      <td>International Affairs</td>\n",
       "    </tr>\n",
       "    <tr>\n",
       "      <th>9</th>\n",
       "      <td>10</td>\n",
       "      <td>Female</td>\n",
       "      <td>175</td>\n",
       "      <td>65</td>\n",
       "      <td>Communications</td>\n",
       "    </tr>\n",
       "    <tr>\n",
       "      <th>10</th>\n",
       "      <td>11</td>\n",
       "      <td>Male</td>\n",
       "      <td>195</td>\n",
       "      <td>94</td>\n",
       "      <td>Business</td>\n",
       "    </tr>\n",
       "    <tr>\n",
       "      <th>11</th>\n",
       "      <td>12</td>\n",
       "      <td>Female</td>\n",
       "      <td>176</td>\n",
       "      <td>51</td>\n",
       "      <td>International Affairs</td>\n",
       "    </tr>\n",
       "    <tr>\n",
       "      <th>12</th>\n",
       "      <td>13</td>\n",
       "      <td>Male</td>\n",
       "      <td>188</td>\n",
       "      <td>76</td>\n",
       "      <td>International Affairs</td>\n",
       "    </tr>\n",
       "    <tr>\n",
       "      <th>13</th>\n",
       "      <td>14</td>\n",
       "      <td>Male</td>\n",
       "      <td>192</td>\n",
       "      <td>82</td>\n",
       "      <td>Business</td>\n",
       "    </tr>\n",
       "    <tr>\n",
       "      <th>14</th>\n",
       "      <td>15</td>\n",
       "      <td>Male</td>\n",
       "      <td>172</td>\n",
       "      <td>70</td>\n",
       "      <td>International Affairs</td>\n",
       "    </tr>\n",
       "    <tr>\n",
       "      <th>15</th>\n",
       "      <td>16</td>\n",
       "      <td>Female</td>\n",
       "      <td>169</td>\n",
       "      <td>53</td>\n",
       "      <td>Business</td>\n",
       "    </tr>\n",
       "    <tr>\n",
       "      <th>16</th>\n",
       "      <td>17</td>\n",
       "      <td>Female</td>\n",
       "      <td>172</td>\n",
       "      <td>52</td>\n",
       "      <td>International Affairs</td>\n",
       "    </tr>\n",
       "    <tr>\n",
       "      <th>17</th>\n",
       "      <td>18</td>\n",
       "      <td>Male</td>\n",
       "      <td>178</td>\n",
       "      <td>85</td>\n",
       "      <td>Business</td>\n",
       "    </tr>\n",
       "    <tr>\n",
       "      <th>18</th>\n",
       "      <td>19</td>\n",
       "      <td>Female</td>\n",
       "      <td>177</td>\n",
       "      <td>59</td>\n",
       "      <td>Communications</td>\n",
       "    </tr>\n",
       "    <tr>\n",
       "      <th>19</th>\n",
       "      <td>20</td>\n",
       "      <td>Male</td>\n",
       "      <td>178</td>\n",
       "      <td>72</td>\n",
       "      <td>International Affairs</td>\n",
       "    </tr>\n",
       "    <tr>\n",
       "      <th>20</th>\n",
       "      <td>21</td>\n",
       "      <td>Female</td>\n",
       "      <td>160</td>\n",
       "      <td>54</td>\n",
       "      <td>Business</td>\n",
       "    </tr>\n",
       "    <tr>\n",
       "      <th>21</th>\n",
       "      <td>22</td>\n",
       "      <td>Female</td>\n",
       "      <td>175</td>\n",
       "      <td>54</td>\n",
       "      <td>International Affairs</td>\n",
       "    </tr>\n",
       "    <tr>\n",
       "      <th>22</th>\n",
       "      <td>23</td>\n",
       "      <td>Male</td>\n",
       "      <td>190</td>\n",
       "      <td>70</td>\n",
       "      <td>International Affairs</td>\n",
       "    </tr>\n",
       "    <tr>\n",
       "      <th>23</th>\n",
       "      <td>24</td>\n",
       "      <td>Male</td>\n",
       "      <td>178</td>\n",
       "      <td>85</td>\n",
       "      <td>Business</td>\n",
       "    </tr>\n",
       "    <tr>\n",
       "      <th>24</th>\n",
       "      <td>25</td>\n",
       "      <td>Female</td>\n",
       "      <td>163</td>\n",
       "      <td>55</td>\n",
       "      <td>Business</td>\n",
       "    </tr>\n",
       "    <tr>\n",
       "      <th>25</th>\n",
       "      <td>26</td>\n",
       "      <td>Female</td>\n",
       "      <td>161</td>\n",
       "      <td>59</td>\n",
       "      <td>Business</td>\n",
       "    </tr>\n",
       "    <tr>\n",
       "      <th>26</th>\n",
       "      <td>27</td>\n",
       "      <td>Female</td>\n",
       "      <td>162</td>\n",
       "      <td>44</td>\n",
       "      <td>Communications</td>\n",
       "    </tr>\n",
       "    <tr>\n",
       "      <th>27</th>\n",
       "      <td>28</td>\n",
       "      <td>Female</td>\n",
       "      <td>170</td>\n",
       "      <td>54</td>\n",
       "      <td>Business</td>\n",
       "    </tr>\n",
       "    <tr>\n",
       "      <th>28</th>\n",
       "      <td>29</td>\n",
       "      <td>Female</td>\n",
       "      <td>154</td>\n",
       "      <td>52</td>\n",
       "      <td>Business</td>\n",
       "    </tr>\n",
       "    <tr>\n",
       "      <th>29</th>\n",
       "      <td>30</td>\n",
       "      <td>Female</td>\n",
       "      <td>170</td>\n",
       "      <td>65</td>\n",
       "      <td>Business</td>\n",
       "    </tr>\n",
       "  </tbody>\n",
       "</table>\n",
       "</div>"
      ],
      "text/plain": [
       "    case   sex        height   weight                   major\n",
       "0       1  Female         172       63               Business\n",
       "1       2  Female         170       70  International Affairs\n",
       "2       3  Female         170       52                  Other\n",
       "3       4  Female         171       52         Communications\n",
       "4       5  Male           186       90               Business\n",
       "5       6  Male           183       79               Business\n",
       "6       7  Male           170       66         Communications\n",
       "7       8  Female         169       56               Business\n",
       "8       9  Male           175       75  International Affairs\n",
       "9      10  Female         175       65         Communications\n",
       "10     11  Male           195       94               Business\n",
       "11     12  Female         176       51  International Affairs\n",
       "12     13  Male           188       76  International Affairs\n",
       "13     14  Male           192       82               Business\n",
       "14     15  Male           172       70  International Affairs\n",
       "15     16  Female         169       53               Business\n",
       "16     17  Female         172       52  International Affairs\n",
       "17     18  Male           178       85               Business\n",
       "18     19  Female         177       59         Communications\n",
       "19     20  Male           178       72  International Affairs\n",
       "20     21  Female         160       54               Business\n",
       "21     22  Female         175       54  International Affairs\n",
       "22     23  Male           190       70  International Affairs\n",
       "23     24  Male           178       85               Business\n",
       "24     25  Female         163       55               Business\n",
       "25     26  Female         161       59               Business\n",
       "26     27  Female         162       44         Communications\n",
       "27     28  Female         170       54               Business\n",
       "28     29  Female         154       52               Business\n",
       "29     30  Female         170       65               Business"
      ]
     },
     "metadata": {},
     "output_type": "display_data"
    }
   ],
   "source": [
    "import pandas as pd\n",
    "df = pd.read_csv('/Users/luchens/Documents/Data/students.csv', sep=',', skipinitialspace=True)   # df is the name we give to the data frame\n",
    "display(df)"
   ]
  },
  {
   "cell_type": "markdown",
   "metadata": {},
   "source": [
    "To display just the first couple of lines of the data frame called df:"
   ]
  },
  {
   "cell_type": "code",
   "execution_count": 59,
   "metadata": {},
   "outputs": [
    {
     "data": {
      "text/html": [
       "<div>\n",
       "<style scoped>\n",
       "    .dataframe tbody tr th:only-of-type {\n",
       "        vertical-align: middle;\n",
       "    }\n",
       "\n",
       "    .dataframe tbody tr th {\n",
       "        vertical-align: top;\n",
       "    }\n",
       "\n",
       "    .dataframe thead th {\n",
       "        text-align: right;\n",
       "    }\n",
       "</style>\n",
       "<table border=\"1\" class=\"dataframe\">\n",
       "  <thead>\n",
       "    <tr style=\"text-align: right;\">\n",
       "      <th></th>\n",
       "      <th>case</th>\n",
       "      <th>sex</th>\n",
       "      <th>height</th>\n",
       "      <th>weight</th>\n",
       "      <th>major</th>\n",
       "    </tr>\n",
       "  </thead>\n",
       "  <tbody>\n",
       "    <tr>\n",
       "      <th>0</th>\n",
       "      <td>1</td>\n",
       "      <td>Female</td>\n",
       "      <td>172</td>\n",
       "      <td>63</td>\n",
       "      <td>Business</td>\n",
       "    </tr>\n",
       "    <tr>\n",
       "      <th>1</th>\n",
       "      <td>2</td>\n",
       "      <td>Female</td>\n",
       "      <td>170</td>\n",
       "      <td>70</td>\n",
       "      <td>International Affairs</td>\n",
       "    </tr>\n",
       "    <tr>\n",
       "      <th>2</th>\n",
       "      <td>3</td>\n",
       "      <td>Female</td>\n",
       "      <td>170</td>\n",
       "      <td>52</td>\n",
       "      <td>Other</td>\n",
       "    </tr>\n",
       "    <tr>\n",
       "      <th>3</th>\n",
       "      <td>4</td>\n",
       "      <td>Female</td>\n",
       "      <td>171</td>\n",
       "      <td>52</td>\n",
       "      <td>Communications</td>\n",
       "    </tr>\n",
       "    <tr>\n",
       "      <th>4</th>\n",
       "      <td>5</td>\n",
       "      <td>Male</td>\n",
       "      <td>186</td>\n",
       "      <td>90</td>\n",
       "      <td>Business</td>\n",
       "    </tr>\n",
       "  </tbody>\n",
       "</table>\n",
       "</div>"
      ],
      "text/plain": [
       "   case   sex        height   weight                   major\n",
       "0      1  Female         172       63               Business\n",
       "1      2  Female         170       70  International Affairs\n",
       "2      3  Female         170       52                  Other\n",
       "3      4  Female         171       52         Communications\n",
       "4      5  Male           186       90               Business"
      ]
     },
     "execution_count": 59,
     "metadata": {},
     "output_type": "execute_result"
    }
   ],
   "source": [
    "df.head()"
   ]
  },
  {
   "cell_type": "markdown",
   "metadata": {},
   "source": [
    "To display the last couple of lines of the data frame called df:"
   ]
  },
  {
   "cell_type": "code",
   "execution_count": 60,
   "metadata": {},
   "outputs": [
    {
     "data": {
      "text/html": [
       "<div>\n",
       "<style scoped>\n",
       "    .dataframe tbody tr th:only-of-type {\n",
       "        vertical-align: middle;\n",
       "    }\n",
       "\n",
       "    .dataframe tbody tr th {\n",
       "        vertical-align: top;\n",
       "    }\n",
       "\n",
       "    .dataframe thead th {\n",
       "        text-align: right;\n",
       "    }\n",
       "</style>\n",
       "<table border=\"1\" class=\"dataframe\">\n",
       "  <thead>\n",
       "    <tr style=\"text-align: right;\">\n",
       "      <th></th>\n",
       "      <th>case</th>\n",
       "      <th>sex</th>\n",
       "      <th>height</th>\n",
       "      <th>weight</th>\n",
       "      <th>major</th>\n",
       "    </tr>\n",
       "  </thead>\n",
       "  <tbody>\n",
       "    <tr>\n",
       "      <th>25</th>\n",
       "      <td>26</td>\n",
       "      <td>Female</td>\n",
       "      <td>161</td>\n",
       "      <td>59</td>\n",
       "      <td>Business</td>\n",
       "    </tr>\n",
       "    <tr>\n",
       "      <th>26</th>\n",
       "      <td>27</td>\n",
       "      <td>Female</td>\n",
       "      <td>162</td>\n",
       "      <td>44</td>\n",
       "      <td>Communications</td>\n",
       "    </tr>\n",
       "    <tr>\n",
       "      <th>27</th>\n",
       "      <td>28</td>\n",
       "      <td>Female</td>\n",
       "      <td>170</td>\n",
       "      <td>54</td>\n",
       "      <td>Business</td>\n",
       "    </tr>\n",
       "    <tr>\n",
       "      <th>28</th>\n",
       "      <td>29</td>\n",
       "      <td>Female</td>\n",
       "      <td>154</td>\n",
       "      <td>52</td>\n",
       "      <td>Business</td>\n",
       "    </tr>\n",
       "    <tr>\n",
       "      <th>29</th>\n",
       "      <td>30</td>\n",
       "      <td>Female</td>\n",
       "      <td>170</td>\n",
       "      <td>65</td>\n",
       "      <td>Business</td>\n",
       "    </tr>\n",
       "  </tbody>\n",
       "</table>\n",
       "</div>"
      ],
      "text/plain": [
       "    case   sex        height   weight            major\n",
       "25     26  Female         161       59        Business\n",
       "26     27  Female         162       44  Communications\n",
       "27     28  Female         170       54        Business\n",
       "28     29  Female         154       52        Business\n",
       "29     30  Female         170       65        Business"
      ]
     },
     "execution_count": 60,
     "metadata": {},
     "output_type": "execute_result"
    }
   ],
   "source": [
    "df.tail()"
   ]
  },
  {
   "cell_type": "markdown",
   "metadata": {},
   "source": [
    "To control the number of lines displayed:"
   ]
  },
  {
   "cell_type": "code",
   "execution_count": 61,
   "metadata": {},
   "outputs": [
    {
     "data": {
      "text/html": [
       "<div>\n",
       "<style scoped>\n",
       "    .dataframe tbody tr th:only-of-type {\n",
       "        vertical-align: middle;\n",
       "    }\n",
       "\n",
       "    .dataframe tbody tr th {\n",
       "        vertical-align: top;\n",
       "    }\n",
       "\n",
       "    .dataframe thead th {\n",
       "        text-align: right;\n",
       "    }\n",
       "</style>\n",
       "<table border=\"1\" class=\"dataframe\">\n",
       "  <thead>\n",
       "    <tr style=\"text-align: right;\">\n",
       "      <th></th>\n",
       "      <th>case</th>\n",
       "      <th>sex</th>\n",
       "      <th>height</th>\n",
       "      <th>weight</th>\n",
       "      <th>major</th>\n",
       "    </tr>\n",
       "  </thead>\n",
       "  <tbody>\n",
       "    <tr>\n",
       "      <th>0</th>\n",
       "      <td>1</td>\n",
       "      <td>Female</td>\n",
       "      <td>172</td>\n",
       "      <td>63</td>\n",
       "      <td>Business</td>\n",
       "    </tr>\n",
       "    <tr>\n",
       "      <th>1</th>\n",
       "      <td>2</td>\n",
       "      <td>Female</td>\n",
       "      <td>170</td>\n",
       "      <td>70</td>\n",
       "      <td>International Affairs</td>\n",
       "    </tr>\n",
       "    <tr>\n",
       "      <th>2</th>\n",
       "      <td>3</td>\n",
       "      <td>Female</td>\n",
       "      <td>170</td>\n",
       "      <td>52</td>\n",
       "      <td>Other</td>\n",
       "    </tr>\n",
       "    <tr>\n",
       "      <th>3</th>\n",
       "      <td>4</td>\n",
       "      <td>Female</td>\n",
       "      <td>171</td>\n",
       "      <td>52</td>\n",
       "      <td>Communications</td>\n",
       "    </tr>\n",
       "    <tr>\n",
       "      <th>4</th>\n",
       "      <td>5</td>\n",
       "      <td>Male</td>\n",
       "      <td>186</td>\n",
       "      <td>90</td>\n",
       "      <td>Business</td>\n",
       "    </tr>\n",
       "    <tr>\n",
       "      <th>5</th>\n",
       "      <td>6</td>\n",
       "      <td>Male</td>\n",
       "      <td>183</td>\n",
       "      <td>79</td>\n",
       "      <td>Business</td>\n",
       "    </tr>\n",
       "    <tr>\n",
       "      <th>6</th>\n",
       "      <td>7</td>\n",
       "      <td>Male</td>\n",
       "      <td>170</td>\n",
       "      <td>66</td>\n",
       "      <td>Communications</td>\n",
       "    </tr>\n",
       "    <tr>\n",
       "      <th>7</th>\n",
       "      <td>8</td>\n",
       "      <td>Female</td>\n",
       "      <td>169</td>\n",
       "      <td>56</td>\n",
       "      <td>Business</td>\n",
       "    </tr>\n",
       "    <tr>\n",
       "      <th>8</th>\n",
       "      <td>9</td>\n",
       "      <td>Male</td>\n",
       "      <td>175</td>\n",
       "      <td>75</td>\n",
       "      <td>International Affairs</td>\n",
       "    </tr>\n",
       "    <tr>\n",
       "      <th>9</th>\n",
       "      <td>10</td>\n",
       "      <td>Female</td>\n",
       "      <td>175</td>\n",
       "      <td>65</td>\n",
       "      <td>Communications</td>\n",
       "    </tr>\n",
       "  </tbody>\n",
       "</table>\n",
       "</div>"
      ],
      "text/plain": [
       "   case   sex        height   weight                   major\n",
       "0      1  Female         172       63               Business\n",
       "1      2  Female         170       70  International Affairs\n",
       "2      3  Female         170       52                  Other\n",
       "3      4  Female         171       52         Communications\n",
       "4      5  Male           186       90               Business\n",
       "5      6  Male           183       79               Business\n",
       "6      7  Male           170       66         Communications\n",
       "7      8  Female         169       56               Business\n",
       "8      9  Male           175       75  International Affairs\n",
       "9     10  Female         175       65         Communications"
      ]
     },
     "execution_count": 61,
     "metadata": {},
     "output_type": "execute_result"
    }
   ],
   "source": [
    "df.head(10)"
   ]
  },
  {
   "cell_type": "code",
   "execution_count": 62,
   "metadata": {},
   "outputs": [
    {
     "data": {
      "text/plain": [
       "case          int64\n",
       "sex          object\n",
       "height        int64\n",
       "weight        int64\n",
       "major        object\n",
       "dtype: object"
      ]
     },
     "execution_count": 62,
     "metadata": {},
     "output_type": "execute_result"
    }
   ],
   "source": [
    "# Inspect the data types:\n",
    "df.dtypes"
   ]
  },
  {
   "cell_type": "code",
   "execution_count": 63,
   "metadata": {},
   "outputs": [
    {
     "name": "stdout",
     "output_type": "stream",
     "text": [
      "0     172\n",
      "1     170\n",
      "2     170\n",
      "3     171\n",
      "4     186\n",
      "5     183\n",
      "6     170\n",
      "7     169\n",
      "8     175\n",
      "9     175\n",
      "10    195\n",
      "11    176\n",
      "12    188\n",
      "13    192\n",
      "14    172\n",
      "15    169\n",
      "16    172\n",
      "17    178\n",
      "18    177\n",
      "19    178\n",
      "20    160\n",
      "21    175\n",
      "22    190\n",
      "23    178\n",
      "24    163\n",
      "25    161\n",
      "26    162\n",
      "27    170\n",
      "28    154\n",
      "29    170\n",
      "Name:    height   , dtype: int64\n"
     ]
    }
   ],
   "source": [
    "print(height)"
   ]
  },
  {
   "cell_type": "code",
   "execution_count": 64,
   "metadata": {},
   "outputs": [
    {
     "data": {
      "text/html": [
       "<div>\n",
       "<style scoped>\n",
       "    .dataframe tbody tr th:only-of-type {\n",
       "        vertical-align: middle;\n",
       "    }\n",
       "\n",
       "    .dataframe tbody tr th {\n",
       "        vertical-align: top;\n",
       "    }\n",
       "\n",
       "    .dataframe thead th {\n",
       "        text-align: right;\n",
       "    }\n",
       "</style>\n",
       "<table border=\"1\" class=\"dataframe\">\n",
       "  <thead>\n",
       "    <tr style=\"text-align: right;\">\n",
       "      <th></th>\n",
       "      <th>case</th>\n",
       "      <th>height</th>\n",
       "      <th>weight</th>\n",
       "    </tr>\n",
       "  </thead>\n",
       "  <tbody>\n",
       "    <tr>\n",
       "      <th>count</th>\n",
       "      <td>30.000000</td>\n",
       "      <td>30.000000</td>\n",
       "      <td>30.000000</td>\n",
       "    </tr>\n",
       "    <tr>\n",
       "      <th>mean</th>\n",
       "      <td>15.500000</td>\n",
       "      <td>174.033333</td>\n",
       "      <td>65.133333</td>\n",
       "    </tr>\n",
       "    <tr>\n",
       "      <th>std</th>\n",
       "      <td>8.803408</td>\n",
       "      <td>9.625696</td>\n",
       "      <td>13.356474</td>\n",
       "    </tr>\n",
       "    <tr>\n",
       "      <th>min</th>\n",
       "      <td>1.000000</td>\n",
       "      <td>154.000000</td>\n",
       "      <td>44.000000</td>\n",
       "    </tr>\n",
       "    <tr>\n",
       "      <th>25%</th>\n",
       "      <td>8.250000</td>\n",
       "      <td>170.000000</td>\n",
       "      <td>54.000000</td>\n",
       "    </tr>\n",
       "    <tr>\n",
       "      <th>50%</th>\n",
       "      <td>15.500000</td>\n",
       "      <td>172.000000</td>\n",
       "      <td>64.000000</td>\n",
       "    </tr>\n",
       "    <tr>\n",
       "      <th>75%</th>\n",
       "      <td>22.750000</td>\n",
       "      <td>178.000000</td>\n",
       "      <td>74.250000</td>\n",
       "    </tr>\n",
       "    <tr>\n",
       "      <th>max</th>\n",
       "      <td>30.000000</td>\n",
       "      <td>195.000000</td>\n",
       "      <td>94.000000</td>\n",
       "    </tr>\n",
       "  </tbody>\n",
       "</table>\n",
       "</div>"
      ],
      "text/plain": [
       "           case      height     weight \n",
       "count  30.000000   30.000000  30.000000\n",
       "mean   15.500000  174.033333  65.133333\n",
       "std     8.803408    9.625696  13.356474\n",
       "min     1.000000  154.000000  44.000000\n",
       "25%     8.250000  170.000000  54.000000\n",
       "50%    15.500000  172.000000  64.000000\n",
       "75%    22.750000  178.000000  74.250000\n",
       "max    30.000000  195.000000  94.000000"
      ]
     },
     "execution_count": 64,
     "metadata": {},
     "output_type": "execute_result"
    }
   ],
   "source": [
    "# summary statistics (quantitative variables only) using the describe() function from pandas:\n",
    "df.describe()"
   ]
  },
  {
   "cell_type": "markdown",
   "metadata": {},
   "source": [
    "Summary statistics (qualitative variables only):"
   ]
  },
  {
   "cell_type": "code",
   "execution_count": 65,
   "metadata": {},
   "outputs": [
    {
     "data": {
      "text/html": [
       "<div>\n",
       "<style scoped>\n",
       "    .dataframe tbody tr th:only-of-type {\n",
       "        vertical-align: middle;\n",
       "    }\n",
       "\n",
       "    .dataframe tbody tr th {\n",
       "        vertical-align: top;\n",
       "    }\n",
       "\n",
       "    .dataframe thead th {\n",
       "        text-align: right;\n",
       "    }\n",
       "</style>\n",
       "<table border=\"1\" class=\"dataframe\">\n",
       "  <thead>\n",
       "    <tr style=\"text-align: right;\">\n",
       "      <th></th>\n",
       "      <th>sex</th>\n",
       "      <th>major</th>\n",
       "    </tr>\n",
       "  </thead>\n",
       "  <tbody>\n",
       "    <tr>\n",
       "      <th>count</th>\n",
       "      <td>30</td>\n",
       "      <td>30</td>\n",
       "    </tr>\n",
       "    <tr>\n",
       "      <th>unique</th>\n",
       "      <td>2</td>\n",
       "      <td>4</td>\n",
       "    </tr>\n",
       "    <tr>\n",
       "      <th>top</th>\n",
       "      <td>Female</td>\n",
       "      <td>Business</td>\n",
       "    </tr>\n",
       "    <tr>\n",
       "      <th>freq</th>\n",
       "      <td>18</td>\n",
       "      <td>15</td>\n",
       "    </tr>\n",
       "  </tbody>\n",
       "</table>\n",
       "</div>"
      ],
      "text/plain": [
       "        sex           major\n",
       "count          30        30\n",
       "unique          2         4\n",
       "top     Female     Business\n",
       "freq           18        15"
      ]
     },
     "execution_count": 65,
     "metadata": {},
     "output_type": "execute_result"
    }
   ],
   "source": [
    "df.describe(include=['object'])"
   ]
  },
  {
   "cell_type": "markdown",
   "metadata": {},
   "source": [
    "Summary statistics (all variables):"
   ]
  },
  {
   "cell_type": "code",
   "execution_count": 66,
   "metadata": {},
   "outputs": [
    {
     "data": {
      "text/html": [
       "<div>\n",
       "<style scoped>\n",
       "    .dataframe tbody tr th:only-of-type {\n",
       "        vertical-align: middle;\n",
       "    }\n",
       "\n",
       "    .dataframe tbody tr th {\n",
       "        vertical-align: top;\n",
       "    }\n",
       "\n",
       "    .dataframe thead th {\n",
       "        text-align: right;\n",
       "    }\n",
       "</style>\n",
       "<table border=\"1\" class=\"dataframe\">\n",
       "  <thead>\n",
       "    <tr style=\"text-align: right;\">\n",
       "      <th></th>\n",
       "      <th>case</th>\n",
       "      <th>sex</th>\n",
       "      <th>height</th>\n",
       "      <th>weight</th>\n",
       "      <th>major</th>\n",
       "    </tr>\n",
       "  </thead>\n",
       "  <tbody>\n",
       "    <tr>\n",
       "      <th>count</th>\n",
       "      <td>30.000000</td>\n",
       "      <td>30</td>\n",
       "      <td>30.000000</td>\n",
       "      <td>30.000000</td>\n",
       "      <td>30</td>\n",
       "    </tr>\n",
       "    <tr>\n",
       "      <th>unique</th>\n",
       "      <td>NaN</td>\n",
       "      <td>2</td>\n",
       "      <td>NaN</td>\n",
       "      <td>NaN</td>\n",
       "      <td>4</td>\n",
       "    </tr>\n",
       "    <tr>\n",
       "      <th>top</th>\n",
       "      <td>NaN</td>\n",
       "      <td>Female</td>\n",
       "      <td>NaN</td>\n",
       "      <td>NaN</td>\n",
       "      <td>Business</td>\n",
       "    </tr>\n",
       "    <tr>\n",
       "      <th>freq</th>\n",
       "      <td>NaN</td>\n",
       "      <td>18</td>\n",
       "      <td>NaN</td>\n",
       "      <td>NaN</td>\n",
       "      <td>15</td>\n",
       "    </tr>\n",
       "    <tr>\n",
       "      <th>mean</th>\n",
       "      <td>15.500000</td>\n",
       "      <td>NaN</td>\n",
       "      <td>174.033333</td>\n",
       "      <td>65.133333</td>\n",
       "      <td>NaN</td>\n",
       "    </tr>\n",
       "    <tr>\n",
       "      <th>std</th>\n",
       "      <td>8.803408</td>\n",
       "      <td>NaN</td>\n",
       "      <td>9.625696</td>\n",
       "      <td>13.356474</td>\n",
       "      <td>NaN</td>\n",
       "    </tr>\n",
       "    <tr>\n",
       "      <th>min</th>\n",
       "      <td>1.000000</td>\n",
       "      <td>NaN</td>\n",
       "      <td>154.000000</td>\n",
       "      <td>44.000000</td>\n",
       "      <td>NaN</td>\n",
       "    </tr>\n",
       "    <tr>\n",
       "      <th>25%</th>\n",
       "      <td>8.250000</td>\n",
       "      <td>NaN</td>\n",
       "      <td>170.000000</td>\n",
       "      <td>54.000000</td>\n",
       "      <td>NaN</td>\n",
       "    </tr>\n",
       "    <tr>\n",
       "      <th>50%</th>\n",
       "      <td>15.500000</td>\n",
       "      <td>NaN</td>\n",
       "      <td>172.000000</td>\n",
       "      <td>64.000000</td>\n",
       "      <td>NaN</td>\n",
       "    </tr>\n",
       "    <tr>\n",
       "      <th>75%</th>\n",
       "      <td>22.750000</td>\n",
       "      <td>NaN</td>\n",
       "      <td>178.000000</td>\n",
       "      <td>74.250000</td>\n",
       "      <td>NaN</td>\n",
       "    </tr>\n",
       "    <tr>\n",
       "      <th>max</th>\n",
       "      <td>30.000000</td>\n",
       "      <td>NaN</td>\n",
       "      <td>195.000000</td>\n",
       "      <td>94.000000</td>\n",
       "      <td>NaN</td>\n",
       "    </tr>\n",
       "  </tbody>\n",
       "</table>\n",
       "</div>"
      ],
      "text/plain": [
       "            case   sex           height     weight      major\n",
       "count   30.000000         30   30.000000  30.000000        30\n",
       "unique        NaN          2         NaN        NaN         4\n",
       "top           NaN  Female            NaN        NaN  Business\n",
       "freq          NaN         18         NaN        NaN        15\n",
       "mean    15.500000        NaN  174.033333  65.133333       NaN\n",
       "std      8.803408        NaN    9.625696  13.356474       NaN\n",
       "min      1.000000        NaN  154.000000  44.000000       NaN\n",
       "25%      8.250000        NaN  170.000000  54.000000       NaN\n",
       "50%     15.500000        NaN  172.000000  64.000000       NaN\n",
       "75%     22.750000        NaN  178.000000  74.250000       NaN\n",
       "max     30.000000        NaN  195.000000  94.000000       NaN"
      ]
     },
     "execution_count": 66,
     "metadata": {},
     "output_type": "execute_result"
    }
   ],
   "source": [
    "df.describe(include='all')"
   ]
  },
  {
   "cell_type": "markdown",
   "metadata": {},
   "source": [
    "## Mean and standard deviation of one of the variables in pandas:"
   ]
  },
  {
   "cell_type": "markdown",
   "metadata": {},
   "source": [
    "Summary statistics for one of the variables ('height'):"
   ]
  },
  {
   "cell_type": "code",
   "execution_count": 153,
   "metadata": {},
   "outputs": [
    {
     "data": {
      "text/plain": [
       "174.03333333333333"
      ]
     },
     "execution_count": 153,
     "metadata": {},
     "output_type": "execute_result"
    }
   ],
   "source": [
    "import pandas as pd\n",
    "height.mean()"
   ]
  },
  {
   "cell_type": "code",
   "execution_count": 154,
   "metadata": {},
   "outputs": [
    {
     "data": {
      "text/plain": [
       "9.625695974240289"
      ]
     },
     "execution_count": 154,
     "metadata": {},
     "output_type": "execute_result"
    }
   ],
   "source": [
    "height.std()"
   ]
  },
  {
   "cell_type": "code",
   "execution_count": 160,
   "metadata": {},
   "outputs": [
    {
     "data": {
      "text/plain": [
       "0    170\n",
       "dtype: int64"
      ]
     },
     "execution_count": 160,
     "metadata": {},
     "output_type": "execute_result"
    }
   ],
   "source": [
    "height.min()\n",
    "height.max()\n",
    "height.sum()\n",
    "height.count()\n",
    "height.median()\n",
    "height.mode()"
   ]
  },
  {
   "cell_type": "markdown",
   "metadata": {},
   "source": [
    "## Drawing a histogram:"
   ]
  },
  {
   "cell_type": "markdown",
   "metadata": {},
   "source": [
    "Frequency histogram:"
   ]
  },
  {
   "cell_type": "code",
   "execution_count": 131,
   "metadata": {},
   "outputs": [
    {
     "data": {
      "text/plain": [
       "(array([1., 3., 1., 7., 4., 8., 0., 2., 2., 2.]),\n",
       " array([154. , 158.1, 162.2, 166.3, 170.4, 174.5, 178.6, 182.7, 186.8,\n",
       "        190.9, 195. ]),\n",
       " <BarContainer object of 10 artists>)"
      ]
     },
     "execution_count": 131,
     "metadata": {},
     "output_type": "execute_result"
    },
    {
     "data": {
      "image/png": "[encoded data removed]",
      "text/plain": [
       "<Figure size 432x288 with 1 Axes>"
      ]
     },
     "metadata": {
      "needs_background": "light"
     },
     "output_type": "display_data"
    }
   ],
   "source": [
    "plt.hist(height)    # frequency histogram"
   ]
  },
  {
   "cell_type": "markdown",
   "metadata": {},
   "source": [
    "Add labels to the axes:"
   ]
  },
  {
   "cell_type": "code",
   "execution_count": 138,
   "metadata": {},
   "outputs": [
    {
     "data": {
      "text/plain": [
       "(array([1., 3., 1., 7., 4., 8., 0., 2., 2., 2.]),\n",
       " array([154. , 158.1, 162.2, 166.3, 170.4, 174.5, 178.6, 182.7, 186.8,\n",
       "        190.9, 195. ]),\n",
       " <BarContainer object of 10 artists>)"
      ]
     },
     "execution_count": 138,
     "metadata": {},
     "output_type": "execute_result"
    },
    {
     "data": {
      "image/png": "[encoded data removed]",
      "text/plain": [
       "<Figure size 432x288 with 1 Axes>"
      ]
     },
     "metadata": {
      "needs_background": "light"
     },
     "output_type": "display_data"
    }
   ],
   "source": [
    "plt.xlabel('Height (cm)')   # add label on x-axis\n",
    "plt.ylabel('Frequency')     # add label on x-axis\n",
    "plt.hist(height)            # frequency histogram"
   ]
  },
  {
   "cell_type": "markdown",
   "metadata": {},
   "source": [
    "Relative frequency histogram:"
   ]
  },
  {
   "cell_type": "code",
   "execution_count": 147,
   "metadata": {},
   "outputs": [
    {
     "data": {
      "text/plain": [
       "30"
      ]
     },
     "execution_count": 147,
     "metadata": {},
     "output_type": "execute_result"
    }
   ],
   "source": [
    "height.size  # gives the number of observations of the variable height"
   ]
  },
  {
   "cell_type": "code",
   "execution_count": 148,
   "metadata": {},
   "outputs": [
    {
     "data": {
      "text/plain": [
       "(array([0.03333333, 0.1       , 0.03333333, 0.23333333, 0.13333333,\n",
       "        0.26666667, 0.        , 0.06666667, 0.06666667, 0.06666667]),\n",
       " array([154. , 158.1, 162.2, 166.3, 170.4, 174.5, 178.6, 182.7, 186.8,\n",
       "        190.9, 195. ]),\n",
       " <BarContainer object of 10 artists>)"
      ]
     },
     "execution_count": 148,
     "metadata": {},
     "output_type": "execute_result"
    },
    {
     "data": {
      "image/png": "[encoded data removed]",
      "text/plain": [
       "<Figure size 432x288 with 1 Axes>"
      ]
     },
     "metadata": {
      "needs_background": "light"
     },
     "output_type": "display_data"
    }
   ],
   "source": [
    "plt.hist(height, weights=np.zeros_like(height) + 1. / height.size)"
   ]
  },
  {
   "cell_type": "markdown",
   "metadata": {},
   "source": [
    "Density histogram:"
   ]
  },
  {
   "cell_type": "code",
   "execution_count": 132,
   "metadata": {},
   "outputs": [
    {
     "data": {
      "text/plain": [
       "(array([0.00813008, 0.02439024, 0.00813008, 0.05691057, 0.03252033,\n",
       "        0.06504065, 0.        , 0.01626016, 0.01626016, 0.01626016]),\n",
       " array([154. , 158.1, 162.2, 166.3, 170.4, 174.5, 178.6, 182.7, 186.8,\n",
       "        190.9, 195. ]),\n",
       " <BarContainer object of 10 artists>)"
      ]
     },
     "execution_count": 132,
     "metadata": {},
     "output_type": "execute_result"
    },
    {
     "data": {
      "image/png": "[encoded data removed]",
      "text/plain": [
       "<Figure size 432x288 with 1 Axes>"
      ]
     },
     "metadata": {
      "needs_background": "light"
     },
     "output_type": "display_data"
    }
   ],
   "source": [
    "plt.hist(height, density=True)    # density histogram"
   ]
  },
  {
   "cell_type": "markdown",
   "metadata": {},
   "source": [
    "Histogram with bins starting at 150, 155, 160, ...:"
   ]
  },
  {
   "cell_type": "code",
   "execution_count": 134,
   "metadata": {},
   "outputs": [
    {
     "data": {
      "text/plain": [
       "(array([1., 0., 4., 2., 9., 8., 1., 2., 3.]),\n",
       " array([150, 155, 160, 165, 170, 175, 180, 185, 190, 195]),\n",
       " <BarContainer object of 9 artists>)"
      ]
     },
     "execution_count": 134,
     "metadata": {},
     "output_type": "execute_result"
    },
    {
     "data": {
      "image/png": "[encoded data removed]",
      "text/plain": [
       "<Figure size 432x288 with 1 Axes>"
      ]
     },
     "metadata": {
      "needs_background": "light"
     },
     "output_type": "display_data"
    }
   ],
   "source": [
    "plt.hist(height, bins=[150,155,160,165,170,175,180,185,190,195])  "
   ]
  },
  {
   "cell_type": "markdown",
   "metadata": {},
   "source": [
    "### Box plot (from matplotlib):"
   ]
  },
  {
   "cell_type": "code",
   "execution_count": 182,
   "metadata": {},
   "outputs": [
    {
     "data": {
      "text/plain": [
       "{'whiskers': [<matplotlib.lines.Line2D at 0x7fbcc0685dc0>,\n",
       "  <matplotlib.lines.Line2D at 0x7fbcc0685220>],\n",
       " 'caps': [<matplotlib.lines.Line2D at 0x7fbcc0673430>,\n",
       "  <matplotlib.lines.Line2D at 0x7fbcc0673700>],\n",
       " 'boxes': [<matplotlib.lines.Line2D at 0x7fbcc0685a00>],\n",
       " 'medians': [<matplotlib.lines.Line2D at 0x7fbcc0673ca0>],\n",
       " 'fliers': [<matplotlib.lines.Line2D at 0x7fbcc06734c0>],\n",
       " 'means': []}"
      ]
     },
     "execution_count": 182,
     "metadata": {},
     "output_type": "execute_result"
    },
    {
     "data": {
      "image/png": "[encoded data removed]",
      "text/plain": [
       "<Figure size 432x288 with 1 Axes>"
      ]
     },
     "metadata": {
      "needs_background": "light"
     },
     "output_type": "display_data"
    }
   ],
   "source": [
    "import matplotlib.pyplot as plt\n",
    "plt.boxplot(height)"
   ]
  },
  {
   "cell_type": "markdown",
   "metadata": {},
   "source": [
    "Make the box plot prettier:"
   ]
  },
  {
   "cell_type": "code",
   "execution_count": 183,
   "metadata": {},
   "outputs": [
    {
     "data": {
      "text/plain": [
       "{'whiskers': [<matplotlib.lines.Line2D at 0x7fbcd0f149d0>,\n",
       "  <matplotlib.lines.Line2D at 0x7fbcd0f14d30>],\n",
       " 'caps': [<matplotlib.lines.Line2D at 0x7fbcd0f220d0>,\n",
       "  <matplotlib.lines.Line2D at 0x7fbcd0f22430>],\n",
       " 'boxes': [<matplotlib.lines.Line2D at 0x7fbcd0f14670>],\n",
       " 'medians': [<matplotlib.lines.Line2D at 0x7fbcd0f22790>],\n",
       " 'fliers': [<matplotlib.lines.Line2D at 0x7fbcd0f22af0>],\n",
       " 'means': []}"
      ]
     },
     "execution_count": 183,
     "metadata": {},
     "output_type": "execute_result"
    },
    {
     "data": {
      "image/png": "[encoded data removed]",
      "text/plain": [
       "<Figure size 432x288 with 1 Axes>"
      ]
     },
     "metadata": {
      "needs_background": "light"
     },
     "output_type": "display_data"
    }
   ],
   "source": [
    "import matplotlib.pyplot as plt\n",
    "plt.box(False)             # get rid of the box\n",
    "plt.title(\"Box plot of the heights of 30 students\") # add title\n",
    "plt.xlabel(\"\")  # I want to get rid of the 1 on the x-axis\n",
    "plt.ylabel(\"Height (cm)\")  # add label to y-axis\n",
    "plt.boxplot(height)"
   ]
  },
  {
   "cell_type": "markdown",
   "metadata": {},
   "source": [
    "Rotate boxplot to get horizontal orientation:"
   ]
  },
  {
   "cell_type": "code",
   "execution_count": 197,
   "metadata": {},
   "outputs": [
    {
     "data": {
      "text/plain": [
       "{'whiskers': [<matplotlib.lines.Line2D at 0x7fbcc09a5be0>,\n",
       "  <matplotlib.lines.Line2D at 0x7fbcc09a5f40>],\n",
       " 'caps': [<matplotlib.lines.Line2D at 0x7fbcc09b02e0>,\n",
       "  <matplotlib.lines.Line2D at 0x7fbcc09b0640>],\n",
       " 'boxes': [<matplotlib.lines.Line2D at 0x7fbcc09a5880>],\n",
       " 'medians': [<matplotlib.lines.Line2D at 0x7fbcc09b09a0>],\n",
       " 'fliers': [<matplotlib.lines.Line2D at 0x7fbcc09b0d00>],\n",
       " 'means': []}"
      ]
     },
     "execution_count": 197,
     "metadata": {},
     "output_type": "execute_result"
    },
    {
     "data": {
      "image/png": "[encoded data removed]",
      "text/plain": [
       "<Figure size 432x288 with 1 Axes>"
      ]
     },
     "metadata": {
      "needs_background": "light"
     },
     "output_type": "display_data"
    }
   ],
   "source": [
    "import matplotlib.pyplot as plt\n",
    "plt.boxplot(height,vert=False)"
   ]
  },
  {
   "cell_type": "markdown",
   "metadata": {},
   "source": [
    "Side-by-side boxplots to compare the heights of men and women, use the seaborn package:"
   ]
  },
  {
   "cell_type": "code",
   "execution_count": 191,
   "metadata": {},
   "outputs": [
    {
     "ename": "ValueError",
     "evalue": "Could not interpret input 'sex'",
     "output_type": "error",
     "traceback": [
      "\u001b[0;31m---------------------------------------------------------------------------\u001b[0m",
      "\u001b[0;31mValueError\u001b[0m                                Traceback (most recent call last)",
      "\u001b[0;32m<ipython-input-191-97adce43509d>\u001b[0m in \u001b[0;36m<module>\u001b[0;34m\u001b[0m\n\u001b[1;32m      3\u001b[0m \u001b[0;31m# Plotting by seaborn\u001b[0m\u001b[0;34m\u001b[0m\u001b[0;34m\u001b[0m\u001b[0;34m\u001b[0m\u001b[0m\n\u001b[1;32m      4\u001b[0m \u001b[0mfig\u001b[0m\u001b[0;34m,\u001b[0m \u001b[0maxs\u001b[0m \u001b[0;34m=\u001b[0m \u001b[0mplt\u001b[0m\u001b[0;34m.\u001b[0m\u001b[0msubplots\u001b[0m\u001b[0;34m(\u001b[0m\u001b[0;36m1\u001b[0m\u001b[0;34m,\u001b[0m \u001b[0;36m1\u001b[0m\u001b[0;34m)\u001b[0m\u001b[0;34m\u001b[0m\u001b[0;34m\u001b[0m\u001b[0m\n\u001b[0;32m----> 5\u001b[0;31m \u001b[0msns\u001b[0m\u001b[0;34m.\u001b[0m\u001b[0mboxplot\u001b[0m\u001b[0;34m(\u001b[0m\u001b[0mdata\u001b[0m\u001b[0;34m=\u001b[0m\u001b[0mdf\u001b[0m\u001b[0;34m,\u001b[0m\u001b[0mx\u001b[0m\u001b[0;34m=\u001b[0m\u001b[0;34m\"sex\"\u001b[0m\u001b[0;34m,\u001b[0m\u001b[0my\u001b[0m\u001b[0;34m=\u001b[0m\u001b[0;34m'height'\u001b[0m\u001b[0;34m,\u001b[0m\u001b[0max\u001b[0m\u001b[0;34m=\u001b[0m\u001b[0maxs\u001b[0m\u001b[0;34m)\u001b[0m\u001b[0;34m\u001b[0m\u001b[0;34m\u001b[0m\u001b[0m\n\u001b[0m\u001b[1;32m      6\u001b[0m \u001b[0mfig\u001b[0m\u001b[0;34m.\u001b[0m\u001b[0mshow\u001b[0m\u001b[0;34m(\u001b[0m\u001b[0;34m)\u001b[0m\u001b[0;34m\u001b[0m\u001b[0;34m\u001b[0m\u001b[0m\n\u001b[1;32m      7\u001b[0m \u001b[0mplt\u001b[0m\u001b[0;34m.\u001b[0m\u001b[0mwaitforbuttonpress\u001b[0m\u001b[0;34m(\u001b[0m\u001b[0;34m)\u001b[0m\u001b[0;34m\u001b[0m\u001b[0;34m\u001b[0m\u001b[0m\n",
      "\u001b[0;32m~/opt/anaconda3/lib/python3.8/site-packages/seaborn/_decorators.py\u001b[0m in \u001b[0;36minner_f\u001b[0;34m(*args, **kwargs)\u001b[0m\n\u001b[1;32m     44\u001b[0m             )\n\u001b[1;32m     45\u001b[0m         \u001b[0mkwargs\u001b[0m\u001b[0;34m.\u001b[0m\u001b[0mupdate\u001b[0m\u001b[0;34m(\u001b[0m\u001b[0;34m{\u001b[0m\u001b[0mk\u001b[0m\u001b[0;34m:\u001b[0m \u001b[0marg\u001b[0m \u001b[0;32mfor\u001b[0m \u001b[0mk\u001b[0m\u001b[0;34m,\u001b[0m \u001b[0marg\u001b[0m \u001b[0;32min\u001b[0m \u001b[0mzip\u001b[0m\u001b[0;34m(\u001b[0m\u001b[0msig\u001b[0m\u001b[0;34m.\u001b[0m\u001b[0mparameters\u001b[0m\u001b[0;34m,\u001b[0m \u001b[0margs\u001b[0m\u001b[0;34m)\u001b[0m\u001b[0;34m}\u001b[0m\u001b[0;34m)\u001b[0m\u001b[0;34m\u001b[0m\u001b[0;34m\u001b[0m\u001b[0m\n\u001b[0;32m---> 46\u001b[0;31m         \u001b[0;32mreturn\u001b[0m \u001b[0mf\u001b[0m\u001b[0;34m(\u001b[0m\u001b[0;34m**\u001b[0m\u001b[0mkwargs\u001b[0m\u001b[0;34m)\u001b[0m\u001b[0;34m\u001b[0m\u001b[0;34m\u001b[0m\u001b[0m\n\u001b[0m\u001b[1;32m     47\u001b[0m     \u001b[0;32mreturn\u001b[0m \u001b[0minner_f\u001b[0m\u001b[0;34m\u001b[0m\u001b[0;34m\u001b[0m\u001b[0m\n\u001b[1;32m     48\u001b[0m \u001b[0;34m\u001b[0m\u001b[0m\n",
      "\u001b[0;32m~/opt/anaconda3/lib/python3.8/site-packages/seaborn/categorical.py\u001b[0m in \u001b[0;36mboxplot\u001b[0;34m(x, y, hue, data, order, hue_order, orient, color, palette, saturation, width, dodge, fliersize, linewidth, whis, ax, **kwargs)\u001b[0m\n\u001b[1;32m   2228\u001b[0m ):\n\u001b[1;32m   2229\u001b[0m \u001b[0;34m\u001b[0m\u001b[0m\n\u001b[0;32m-> 2230\u001b[0;31m     plotter = _BoxPlotter(x, y, hue, data, order, hue_order,\n\u001b[0m\u001b[1;32m   2231\u001b[0m                           \u001b[0morient\u001b[0m\u001b[0;34m,\u001b[0m \u001b[0mcolor\u001b[0m\u001b[0;34m,\u001b[0m \u001b[0mpalette\u001b[0m\u001b[0;34m,\u001b[0m \u001b[0msaturation\u001b[0m\u001b[0;34m,\u001b[0m\u001b[0;34m\u001b[0m\u001b[0;34m\u001b[0m\u001b[0m\n\u001b[1;32m   2232\u001b[0m                           width, dodge, fliersize, linewidth)\n",
      "\u001b[0;32m~/opt/anaconda3/lib/python3.8/site-packages/seaborn/categorical.py\u001b[0m in \u001b[0;36m__init__\u001b[0;34m(self, x, y, hue, data, order, hue_order, orient, color, palette, saturation, width, dodge, fliersize, linewidth)\u001b[0m\n\u001b[1;32m    404\u001b[0m                  width, dodge, fliersize, linewidth):\n\u001b[1;32m    405\u001b[0m \u001b[0;34m\u001b[0m\u001b[0m\n\u001b[0;32m--> 406\u001b[0;31m         \u001b[0mself\u001b[0m\u001b[0;34m.\u001b[0m\u001b[0mestablish_variables\u001b[0m\u001b[0;34m(\u001b[0m\u001b[0mx\u001b[0m\u001b[0;34m,\u001b[0m \u001b[0my\u001b[0m\u001b[0;34m,\u001b[0m \u001b[0mhue\u001b[0m\u001b[0;34m,\u001b[0m \u001b[0mdata\u001b[0m\u001b[0;34m,\u001b[0m \u001b[0morient\u001b[0m\u001b[0;34m,\u001b[0m \u001b[0morder\u001b[0m\u001b[0;34m,\u001b[0m \u001b[0mhue_order\u001b[0m\u001b[0;34m)\u001b[0m\u001b[0;34m\u001b[0m\u001b[0;34m\u001b[0m\u001b[0m\n\u001b[0m\u001b[1;32m    407\u001b[0m         \u001b[0mself\u001b[0m\u001b[0;34m.\u001b[0m\u001b[0mestablish_colors\u001b[0m\u001b[0;34m(\u001b[0m\u001b[0mcolor\u001b[0m\u001b[0;34m,\u001b[0m \u001b[0mpalette\u001b[0m\u001b[0;34m,\u001b[0m \u001b[0msaturation\u001b[0m\u001b[0;34m)\u001b[0m\u001b[0;34m\u001b[0m\u001b[0;34m\u001b[0m\u001b[0m\n\u001b[1;32m    408\u001b[0m \u001b[0;34m\u001b[0m\u001b[0m\n",
      "\u001b[0;32m~/opt/anaconda3/lib/python3.8/site-packages/seaborn/categorical.py\u001b[0m in \u001b[0;36mestablish_variables\u001b[0;34m(self, x, y, hue, data, orient, order, hue_order, units)\u001b[0m\n\u001b[1;32m    151\u001b[0m                 \u001b[0;32mif\u001b[0m \u001b[0misinstance\u001b[0m\u001b[0;34m(\u001b[0m\u001b[0mvar\u001b[0m\u001b[0;34m,\u001b[0m \u001b[0mstr\u001b[0m\u001b[0;34m)\u001b[0m\u001b[0;34m:\u001b[0m\u001b[0;34m\u001b[0m\u001b[0;34m\u001b[0m\u001b[0m\n\u001b[1;32m    152\u001b[0m                     \u001b[0merr\u001b[0m \u001b[0;34m=\u001b[0m \u001b[0;34m\"Could not interpret input '{}'\"\u001b[0m\u001b[0;34m.\u001b[0m\u001b[0mformat\u001b[0m\u001b[0;34m(\u001b[0m\u001b[0mvar\u001b[0m\u001b[0;34m)\u001b[0m\u001b[0;34m\u001b[0m\u001b[0;34m\u001b[0m\u001b[0m\n\u001b[0;32m--> 153\u001b[0;31m                     \u001b[0;32mraise\u001b[0m \u001b[0mValueError\u001b[0m\u001b[0;34m(\u001b[0m\u001b[0merr\u001b[0m\u001b[0;34m)\u001b[0m\u001b[0;34m\u001b[0m\u001b[0;34m\u001b[0m\u001b[0m\n\u001b[0m\u001b[1;32m    154\u001b[0m \u001b[0;34m\u001b[0m\u001b[0m\n\u001b[1;32m    155\u001b[0m             \u001b[0;31m# Figure out the plotting orientation\u001b[0m\u001b[0;34m\u001b[0m\u001b[0;34m\u001b[0m\u001b[0;34m\u001b[0m\u001b[0m\n",
      "\u001b[0;31mValueError\u001b[0m: Could not interpret input 'sex'"
     ]
    },
    {
     "data": {
      "image/png": "[encoded data removed]",
      "text/plain": [
       "<Figure size 432x288 with 1 Axes>"
      ]
     },
     "metadata": {
      "needs_background": "light"
     },
     "output_type": "display_data"
    }
   ],
   "source": [
    "import seaborn as sns\n",
    "# sns.boxplot(data=df,y='height')\n",
    "# Plotting by seaborn\n",
    "fig, axs = plt.subplots(1, 1)\n",
    "sns.boxplot(data=df,x=\"sex\",y='height',ax=axs)\n",
    "fig.show()\n",
    "plt.waitforbuttonpress()\n",
    "plt.close(fig)"
   ]
  },
  {
   "cell_type": "code",
   "execution_count": 196,
   "metadata": {},
   "outputs": [
    {
     "ename": "NameError",
     "evalue": "name 'sex' is not defined",
     "output_type": "error",
     "traceback": [
      "\u001b[0;31m---------------------------------------------------------------------------\u001b[0m",
      "\u001b[0;31mNameError\u001b[0m                                 Traceback (most recent call last)",
      "\u001b[0;32m<ipython-input-196-c51daa6ca45d>\u001b[0m in \u001b[0;36m<module>\u001b[0;34m\u001b[0m\n\u001b[0;32m----> 1\u001b[0;31m \u001b[0msex\u001b[0m\u001b[0;34m.\u001b[0m\u001b[0mcount\u001b[0m\u001b[0;34m(\u001b[0m\u001b[0;34m)\u001b[0m\u001b[0;34m\u001b[0m\u001b[0;34m\u001b[0m\u001b[0m\n\u001b[0m",
      "\u001b[0;31mNameError\u001b[0m: name 'sex' is not defined"
     ]
    }
   ],
   "source": [
    "sex.count()"
   ]
  },
  {
   "cell_type": "markdown",
   "metadata": {},
   "source": [
    "## Scatter plot and correlation"
   ]
  },
  {
   "cell_type": "code",
   "execution_count": 70,
   "metadata": {},
   "outputs": [
    {
     "data": {
      "text/plain": [
       "<matplotlib.collections.PathCollection at 0x7fbce02360d0>"
      ]
     },
     "execution_count": 70,
     "metadata": {},
     "output_type": "execute_result"
    },
    {
     "data": {
      "image/png": "[encoded data removed]",
      "text/plain": [
       "<Figure size 432x288 with 1 Axes>"
      ]
     },
     "metadata": {
      "needs_background": "light"
     },
     "output_type": "display_data"
    }
   ],
   "source": [
    "import numpy as np\n",
    "import matplotlib.pyplot as plt\n",
    "plt.scatter(height,weight)"
   ]
  },
  {
   "cell_type": "markdown",
   "metadata": {},
   "source": [
    "Make the scatter plot prettier (git rid of the box, add labels to the axes):"
   ]
  },
  {
   "cell_type": "code",
   "execution_count": 108,
   "metadata": {},
   "outputs": [
    {
     "data": {
      "text/plain": [
       "<matplotlib.collections.PathCollection at 0x7fbd00b46400>"
      ]
     },
     "execution_count": 108,
     "metadata": {},
     "output_type": "execute_result"
    },
    {
     "data": {
      "image/png": "[encoded data removed]",
      "text/plain": [
       "<Figure size 432x288 with 1 Axes>"
      ]
     },
     "metadata": {
      "needs_background": "light"
     },
     "output_type": "display_data"
    }
   ],
   "source": [
    "plt.box(False)             # get rid of the box\n",
    "plt.title(\"Height and weight of 30 students\") # add title\n",
    "plt.xlabel(\"Height (cm)\")  # add label to x-axis\n",
    "plt.ylabel(\"Weight (kg)\")  # add label to y-axis\n",
    "plt.scatter(height,weight)"
   ]
  },
  {
   "cell_type": "markdown",
   "metadata": {},
   "source": [
    "Save plot to .png:"
   ]
  },
  {
   "cell_type": "code",
   "execution_count": 114,
   "metadata": {},
   "outputs": [
    {
     "data": {
      "image/png": "[encoded data removed]",
      "text/plain": [
       "<Figure size 432x288 with 1 Axes>"
      ]
     },
     "metadata": {
      "needs_background": "light"
     },
     "output_type": "display_data"
    }
   ],
   "source": [
    "fig = plt.figure()\n",
    "plt.scatter(height,weight)\n",
    "fig.savefig('saved_figure-1000dpi.png', dpi = 1000, transparent=True)"
   ]
  },
  {
   "cell_type": "markdown",
   "metadata": {},
   "source": [
    "Save plot to .pdf:"
   ]
  },
  {
   "cell_type": "code",
   "execution_count": null,
   "metadata": {},
   "outputs": [],
   "source": [
    "fig = plt.figure()\n",
    "plt.scatter(height,weight)\n",
    "fig.savefig('saved_figure-1000dpi.pdf', dpi = 1000, transparent=True)"
   ]
  },
  {
   "cell_type": "code",
   "execution_count": 71,
   "metadata": {},
   "outputs": [
    {
     "data": {
      "text/html": [
       "<div>\n",
       "<style scoped>\n",
       "    .dataframe tbody tr th:only-of-type {\n",
       "        vertical-align: middle;\n",
       "    }\n",
       "\n",
       "    .dataframe tbody tr th {\n",
       "        vertical-align: top;\n",
       "    }\n",
       "\n",
       "    .dataframe thead th {\n",
       "        text-align: right;\n",
       "    }\n",
       "</style>\n",
       "<table border=\"1\" class=\"dataframe\">\n",
       "  <thead>\n",
       "    <tr style=\"text-align: right;\">\n",
       "      <th></th>\n",
       "      <th>case</th>\n",
       "      <th>height</th>\n",
       "      <th>weight</th>\n",
       "    </tr>\n",
       "  </thead>\n",
       "  <tbody>\n",
       "    <tr>\n",
       "      <th>case</th>\n",
       "      <td>1.000000</td>\n",
       "      <td>-0.320457</td>\n",
       "      <td>-0.254260</td>\n",
       "    </tr>\n",
       "    <tr>\n",
       "      <th>height</th>\n",
       "      <td>-0.320457</td>\n",
       "      <td>1.000000</td>\n",
       "      <td>0.752567</td>\n",
       "    </tr>\n",
       "    <tr>\n",
       "      <th>weight</th>\n",
       "      <td>-0.254260</td>\n",
       "      <td>0.752567</td>\n",
       "      <td>1.000000</td>\n",
       "    </tr>\n",
       "  </tbody>\n",
       "</table>\n",
       "</div>"
      ],
      "text/plain": [
       "            case    height    weight \n",
       "case     1.000000 -0.320457 -0.254260\n",
       "height  -0.320457  1.000000  0.752567\n",
       "weight  -0.254260  0.752567  1.000000"
      ]
     },
     "execution_count": 71,
     "metadata": {},
     "output_type": "execute_result"
    }
   ],
   "source": [
    "# correlation: \n",
    "df.corr()"
   ]
  },
  {
   "cell_type": "markdown",
   "metadata": {},
   "source": [
    "To get *one* of the correlation coefficients, first convert to matrix:"
   ]
  },
  {
   "cell_type": "code",
   "execution_count": 90,
   "metadata": {},
   "outputs": [
    {
     "name": "stdout",
     "output_type": "stream",
     "text": [
      "[[ 1.         -0.32045686 -0.25426022]\n",
      " [-0.32045686  1.          0.75256681]\n",
      " [-0.25426022  0.75256681  1.        ]]\n"
     ]
    }
   ],
   "source": [
    "import numpy as np\n",
    "corr_matrix = np.array(df.corr())\n",
    "print(corr_matrix)"
   ]
  },
  {
   "cell_type": "code",
   "execution_count": 91,
   "metadata": {},
   "outputs": [
    {
     "data": {
      "text/plain": [
       "0.7525668130284301"
      ]
     },
     "execution_count": 91,
     "metadata": {},
     "output_type": "execute_result"
    }
   ],
   "source": [
    "# correlation between height and weight (rows and columns start counting at 0):\n",
    "corr_matrix[1][2]"
   ]
  },
  {
   "cell_type": "markdown",
   "metadata": {},
   "source": [
    "Add a **line of best fit** to the scatter plot using the seaborn package:"
   ]
  },
  {
   "cell_type": "code",
   "execution_count": 119,
   "metadata": {},
   "outputs": [
    {
     "data": {
      "image/png": "[encoded data removed]",
      "text/plain": [
       "<Figure size 432x288 with 1 Axes>"
      ]
     },
     "metadata": {
      "needs_background": "light"
     },
     "output_type": "display_data"
    }
   ],
   "source": [
    "import seaborn as sns   # regplot: regression plot  \n",
    "sns.regplot(x=height,y=weight, data=df)\n",
    "plt.show()"
   ]
  },
  {
   "cell_type": "markdown",
   "metadata": {},
   "source": [
    "Label the axes:"
   ]
  },
  {
   "cell_type": "code",
   "execution_count": 120,
   "metadata": {},
   "outputs": [
    {
     "data": {
      "text/plain": [
       "<AxesSubplot:xlabel='Height (cm)', ylabel='Weight (kg)'>"
      ]
     },
     "execution_count": 120,
     "metadata": {},
     "output_type": "execute_result"
    },
    {
     "data": {
      "image/png": "[encoded data removed]",
      "text/plain": [
       "<Figure size 432x288 with 1 Axes>"
      ]
     },
     "metadata": {
      "needs_background": "light"
     },
     "output_type": "display_data"
    }
   ],
   "source": [
    "x, y = pd.Series(height, name=\"Height (cm)\"), pd.Series(weight, name=\"Weight (kg)\")\n",
    "sns.regplot(x=x,y=y, data=df)"
   ]
  },
  {
   "cell_type": "markdown",
   "metadata": {},
   "source": [
    "Show the coefficients of the model (seaborn only visualizes) using statsmodels:"
   ]
  },
  {
   "cell_type": "code",
   "execution_count": 123,
   "metadata": {},
   "outputs": [
    {
     "name": "stdout",
     "output_type": "stream",
     "text": [
      "                            OLS Regression Results                            \n",
      "==============================================================================\n",
      "Dep. Variable:                 weight   R-squared:                       0.566\n",
      "Model:                            OLS   Adj. R-squared:                  0.551\n",
      "Method:                 Least Squares   F-statistic:                     36.57\n",
      "Date:                Wed, 15 Dec 2021   Prob (F-statistic):           1.61e-06\n",
      "Time:                        14:52:09   Log-Likelihood:                -107.29\n",
      "No. Observations:                  30   AIC:                             218.6\n",
      "Df Residuals:                      28   BIC:                             221.4\n",
      "Df Model:                           1                                         \n",
      "Covariance Type:            nonrobust                                         \n",
      "==============================================================================\n",
      "                 coef    std err          t      P>|t|      [0.025      0.975]\n",
      "------------------------------------------------------------------------------\n",
      "Intercept   -116.6011     30.097     -3.874      0.001    -178.252     -54.951\n",
      "height         1.0443      0.173      6.047      0.000       0.691       1.398\n",
      "==============================================================================\n",
      "Omnibus:                        2.804   Durbin-Watson:                   2.486\n",
      "Prob(Omnibus):                  0.246   Jarque-Bera (JB):                1.333\n",
      "Skew:                           0.007   Prob(JB):                        0.514\n",
      "Kurtosis:                       1.968   Cond. No.                     3.21e+03\n",
      "==============================================================================\n",
      "\n",
      "Notes:\n",
      "[1] Standard Errors assume that the covariance matrix of the errors is correctly specified.\n",
      "[2] The condition number is large, 3.21e+03. This might indicate that there are\n",
      "strong multicollinearity or other numerical problems.\n"
     ]
    }
   ],
   "source": [
    "import statsmodels.api as sms\n",
    "import statsmodels.formula.api as smf\n",
    "# Fit regression model:\n",
    "results = smf.ols('weight ~ height', data=df).fit()\n",
    "# Inspect the results:\n",
    "print(results.summary())"
   ]
  },
  {
   "cell_type": "markdown",
   "metadata": {},
   "source": [
    "To get just the coefficients:"
   ]
  },
  {
   "cell_type": "code",
   "execution_count": 124,
   "metadata": {},
   "outputs": [
    {
     "data": {
      "text/plain": [
       "Intercept   -116.601087\n",
       "height         1.044251\n",
       "dtype: float64"
      ]
     },
     "execution_count": 124,
     "metadata": {},
     "output_type": "execute_result"
    }
   ],
   "source": [
    "results.params"
   ]
  },
  {
   "cell_type": "markdown",
   "metadata": {},
   "source": [
    "To get the first coefficient:"
   ]
  },
  {
   "cell_type": "code",
   "execution_count": 125,
   "metadata": {},
   "outputs": [
    {
     "data": {
      "text/plain": [
       "-116.6010867272883"
      ]
     },
     "execution_count": 125,
     "metadata": {},
     "output_type": "execute_result"
    }
   ],
   "source": [
    "results.params[0]"
   ]
  },
  {
   "cell_type": "markdown",
   "metadata": {},
   "source": [
    "To get the second coefficient:"
   ]
  },
  {
   "cell_type": "code",
   "execution_count": 127,
   "metadata": {},
   "outputs": [
    {
     "data": {
      "text/plain": [
       "1.044250641987867"
      ]
     },
     "execution_count": 127,
     "metadata": {},
     "output_type": "execute_result"
    }
   ],
   "source": [
    "results.params[1]"
   ]
  },
  {
   "cell_type": "markdown",
   "metadata": {},
   "source": [
    "To get the t-values of the coefficients:"
   ]
  },
  {
   "cell_type": "code",
   "execution_count": 128,
   "metadata": {},
   "outputs": [
    {
     "data": {
      "text/plain": [
       "Intercept   -3.874200\n",
       "height       6.047248\n",
       "dtype: float64"
      ]
     },
     "execution_count": 128,
     "metadata": {},
     "output_type": "execute_result"
    }
   ],
   "source": [
    "results.tvalues"
   ]
  },
  {
   "cell_type": "markdown",
   "metadata": {},
   "source": [
    "## Plot Normal curve:"
   ]
  },
  {
   "cell_type": "code",
   "execution_count": 219,
   "metadata": {},
   "outputs": [
    {
     "data": {
      "text/plain": [
       "[<matplotlib.lines.Line2D at 0x7fbcd10b48e0>]"
      ]
     },
     "execution_count": 219,
     "metadata": {},
     "output_type": "execute_result"
    },
    {
     "data": {
      "image/png": "[encoded data removed]",
      "text/plain": [
       "<Figure size 432x288 with 1 Axes>"
      ]
     },
     "metadata": {
      "needs_background": "light"
     },
     "output_type": "display_data"
    }
   ],
   "source": [
    "# https://www.statology.org/plot-normal-distribution-python/\n",
    "import numpy as np\n",
    "import matplotlib.pyplot as plt\n",
    "from scipy.stats import norm\n",
    "# x-axis ranges from -4 and 4 with .001 steps:\n",
    "x = np.arange(-4, 4, 0.001)\n",
    "\n",
    "# plot normal distribution with mean 0 and standard deviation 1\n",
    "plt.plot(x, norm.pdf(x, 0, 1))"
   ]
  },
  {
   "cell_type": "code",
   "execution_count": 220,
   "metadata": {},
   "outputs": [
    {
     "data": {
      "text/plain": [
       "[<matplotlib.lines.Line2D at 0x7fbd127faf10>]"
      ]
     },
     "execution_count": 220,
     "metadata": {},
     "output_type": "execute_result"
    },
    {
     "data": {
      "image/png": "[encoded data removed]",
      "text/plain": [
       "<Figure size 432x288 with 1 Axes>"
      ]
     },
     "metadata": {
      "needs_background": "light"
     },
     "output_type": "display_data"
    }
   ],
   "source": [
    "plt.plot(x, norm.pdf(x, 0, 1), color='red', linewidth=3)"
   ]
  },
  {
   "cell_type": "markdown",
   "metadata": {},
   "source": [
    "## Plot normal curve with area shaded:"
   ]
  },
  {
   "cell_type": "markdown",
   "metadata": {},
   "source": [
    "For a worked-out example, see: https://pythonforundergradengineers.com/plotting-normal-curve-with-python.html"
   ]
  },
  {
   "cell_type": "code",
   "execution_count": 224,
   "metadata": {},
   "outputs": [
    {
     "ename": "NameError",
     "evalue": "name 'y2' is not defined",
     "output_type": "error",
     "traceback": [
      "\u001b[0;31m---------------------------------------------------------------------------\u001b[0m",
      "\u001b[0;31mNameError\u001b[0m                                 Traceback (most recent call last)",
      "\u001b[0;32m<ipython-input-224-2a361950c8e6>\u001b[0m in \u001b[0;36m<module>\u001b[0;34m\u001b[0m\n\u001b[1;32m     10\u001b[0m \u001b[0mz2\u001b[0m \u001b[0;34m=\u001b[0m  \u001b[0;36m1\u001b[0m\u001b[0;34m\u001b[0m\u001b[0;34m\u001b[0m\u001b[0m\n\u001b[1;32m     11\u001b[0m \u001b[0mx_area\u001b[0m \u001b[0;34m=\u001b[0m \u001b[0mnp\u001b[0m\u001b[0;34m.\u001b[0m\u001b[0marange\u001b[0m\u001b[0;34m(\u001b[0m\u001b[0mz1\u001b[0m\u001b[0;34m,\u001b[0m \u001b[0mz2\u001b[0m\u001b[0;34m,\u001b[0m \u001b[0;36m0.001\u001b[0m\u001b[0;34m)\u001b[0m \u001b[0;31m# range of x in spec\u001b[0m\u001b[0;34m\u001b[0m\u001b[0;34m\u001b[0m\u001b[0m\n\u001b[0;32m---> 12\u001b[0;31m \u001b[0mplt\u001b[0m\u001b[0;34m.\u001b[0m\u001b[0mfill_between\u001b[0m\u001b[0;34m(\u001b[0m\u001b[0mx\u001b[0m\u001b[0;34m,\u001b[0m\u001b[0my2\u001b[0m\u001b[0;34m,\u001b[0m\u001b[0;36m0\u001b[0m\u001b[0;34m,\u001b[0m \u001b[0malpha\u001b[0m\u001b[0;34m=\u001b[0m\u001b[0;36m0.1\u001b[0m\u001b[0;34m)\u001b[0m\u001b[0;34m\u001b[0m\u001b[0;34m\u001b[0m\u001b[0m\n\u001b[0m",
      "\u001b[0;31mNameError\u001b[0m: name 'y2' is not defined"
     ]
    },
    {
     "data": {
      "image/png": "[encoded data removed]",
      "text/plain": [
       "<Figure size 432x288 with 1 Axes>"
      ]
     },
     "metadata": {
      "needs_background": "light"
     },
     "output_type": "display_data"
    }
   ],
   "source": [
    "import numpy as np\n",
    "import matplotlib.pyplot as plt\n",
    "from scipy.stats import norm\n",
    "# x-axis ranges from -4 and 4 with .001 steps:\n",
    "x = np.arange(-4, 4, 0.001)\n",
    "\n",
    "# plot normal distribution with mean 0 and standard deviation 1\n",
    "plt.plot(x, norm.pdf(x, 0, 1))\n",
    "z1 = -1\n",
    "z2 =  1\n",
    "x_area = np.arange(z1, z2, 0.001) # range of x in spec\n",
    "plt.fill_between(x,y2,0, alpha=0.1)"
   ]
  },
  {
   "cell_type": "markdown",
   "metadata": {},
   "source": [
    "## Changing current working directory and similar stuff"
   ]
  },
  {
   "cell_type": "code",
   "execution_count": null,
   "metadata": {},
   "outputs": [],
   "source": []
  },
  {
   "cell_type": "code",
   "execution_count": null,
   "metadata": {},
   "outputs": [],
   "source": []
  },
  {
   "cell_type": "code",
   "execution_count": 14,
   "metadata": {},
   "outputs": [
    {
     "ename": "KeyError",
     "evalue": "\"None of [Index(['sex'], dtype='object')] are in the [columns]\"",
     "output_type": "error",
     "traceback": [
      "\u001b[0;31m---------------------------------------------------------------------------\u001b[0m",
      "\u001b[0;31mKeyError\u001b[0m                                  Traceback (most recent call last)",
      "\u001b[0;32m<ipython-input-14-fe9ede93efa8>\u001b[0m in \u001b[0;36m<module>\u001b[0;34m\u001b[0m\n\u001b[0;32m----> 1\u001b[0;31m \u001b[0mdf\u001b[0m\u001b[0;34m[\u001b[0m\u001b[0;34m[\u001b[0m\u001b[0;34m'sex'\u001b[0m\u001b[0;34m]\u001b[0m\u001b[0;34m]\u001b[0m\u001b[0;34m\u001b[0m\u001b[0;34m\u001b[0m\u001b[0m\n\u001b[0m",
      "\u001b[0;32m~/opt/anaconda3/lib/python3.8/site-packages/pandas/core/frame.py\u001b[0m in \u001b[0;36m__getitem__\u001b[0;34m(self, key)\u001b[0m\n\u001b[1;32m   2906\u001b[0m             \u001b[0;32mif\u001b[0m \u001b[0mis_iterator\u001b[0m\u001b[0;34m(\u001b[0m\u001b[0mkey\u001b[0m\u001b[0;34m)\u001b[0m\u001b[0;34m:\u001b[0m\u001b[0;34m\u001b[0m\u001b[0;34m\u001b[0m\u001b[0m\n\u001b[1;32m   2907\u001b[0m                 \u001b[0mkey\u001b[0m \u001b[0;34m=\u001b[0m \u001b[0mlist\u001b[0m\u001b[0;34m(\u001b[0m\u001b[0mkey\u001b[0m\u001b[0;34m)\u001b[0m\u001b[0;34m\u001b[0m\u001b[0;34m\u001b[0m\u001b[0m\n\u001b[0;32m-> 2908\u001b[0;31m             \u001b[0mindexer\u001b[0m \u001b[0;34m=\u001b[0m \u001b[0mself\u001b[0m\u001b[0;34m.\u001b[0m\u001b[0mloc\u001b[0m\u001b[0;34m.\u001b[0m\u001b[0m_get_listlike_indexer\u001b[0m\u001b[0;34m(\u001b[0m\u001b[0mkey\u001b[0m\u001b[0;34m,\u001b[0m \u001b[0maxis\u001b[0m\u001b[0;34m=\u001b[0m\u001b[0;36m1\u001b[0m\u001b[0;34m,\u001b[0m \u001b[0mraise_missing\u001b[0m\u001b[0;34m=\u001b[0m\u001b[0;32mTrue\u001b[0m\u001b[0;34m)\u001b[0m\u001b[0;34m[\u001b[0m\u001b[0;36m1\u001b[0m\u001b[0;34m]\u001b[0m\u001b[0;34m\u001b[0m\u001b[0;34m\u001b[0m\u001b[0m\n\u001b[0m\u001b[1;32m   2909\u001b[0m \u001b[0;34m\u001b[0m\u001b[0m\n\u001b[1;32m   2910\u001b[0m         \u001b[0;31m# take() does not accept boolean indexers\u001b[0m\u001b[0;34m\u001b[0m\u001b[0;34m\u001b[0m\u001b[0;34m\u001b[0m\u001b[0m\n",
      "\u001b[0;32m~/opt/anaconda3/lib/python3.8/site-packages/pandas/core/indexing.py\u001b[0m in \u001b[0;36m_get_listlike_indexer\u001b[0;34m(self, key, axis, raise_missing)\u001b[0m\n\u001b[1;32m   1252\u001b[0m             \u001b[0mkeyarr\u001b[0m\u001b[0;34m,\u001b[0m \u001b[0mindexer\u001b[0m\u001b[0;34m,\u001b[0m \u001b[0mnew_indexer\u001b[0m \u001b[0;34m=\u001b[0m \u001b[0max\u001b[0m\u001b[0;34m.\u001b[0m\u001b[0m_reindex_non_unique\u001b[0m\u001b[0;34m(\u001b[0m\u001b[0mkeyarr\u001b[0m\u001b[0;34m)\u001b[0m\u001b[0;34m\u001b[0m\u001b[0;34m\u001b[0m\u001b[0m\n\u001b[1;32m   1253\u001b[0m \u001b[0;34m\u001b[0m\u001b[0m\n\u001b[0;32m-> 1254\u001b[0;31m         \u001b[0mself\u001b[0m\u001b[0;34m.\u001b[0m\u001b[0m_validate_read_indexer\u001b[0m\u001b[0;34m(\u001b[0m\u001b[0mkeyarr\u001b[0m\u001b[0;34m,\u001b[0m \u001b[0mindexer\u001b[0m\u001b[0;34m,\u001b[0m \u001b[0maxis\u001b[0m\u001b[0;34m,\u001b[0m \u001b[0mraise_missing\u001b[0m\u001b[0;34m=\u001b[0m\u001b[0mraise_missing\u001b[0m\u001b[0;34m)\u001b[0m\u001b[0;34m\u001b[0m\u001b[0;34m\u001b[0m\u001b[0m\n\u001b[0m\u001b[1;32m   1255\u001b[0m         \u001b[0;32mreturn\u001b[0m \u001b[0mkeyarr\u001b[0m\u001b[0;34m,\u001b[0m \u001b[0mindexer\u001b[0m\u001b[0;34m\u001b[0m\u001b[0;34m\u001b[0m\u001b[0m\n\u001b[1;32m   1256\u001b[0m \u001b[0;34m\u001b[0m\u001b[0m\n",
      "\u001b[0;32m~/opt/anaconda3/lib/python3.8/site-packages/pandas/core/indexing.py\u001b[0m in \u001b[0;36m_validate_read_indexer\u001b[0;34m(self, key, indexer, axis, raise_missing)\u001b[0m\n\u001b[1;32m   1296\u001b[0m             \u001b[0;32mif\u001b[0m \u001b[0mmissing\u001b[0m \u001b[0;34m==\u001b[0m \u001b[0mlen\u001b[0m\u001b[0;34m(\u001b[0m\u001b[0mindexer\u001b[0m\u001b[0;34m)\u001b[0m\u001b[0;34m:\u001b[0m\u001b[0;34m\u001b[0m\u001b[0;34m\u001b[0m\u001b[0m\n\u001b[1;32m   1297\u001b[0m                 \u001b[0maxis_name\u001b[0m \u001b[0;34m=\u001b[0m \u001b[0mself\u001b[0m\u001b[0;34m.\u001b[0m\u001b[0mobj\u001b[0m\u001b[0;34m.\u001b[0m\u001b[0m_get_axis_name\u001b[0m\u001b[0;34m(\u001b[0m\u001b[0maxis\u001b[0m\u001b[0;34m)\u001b[0m\u001b[0;34m\u001b[0m\u001b[0;34m\u001b[0m\u001b[0m\n\u001b[0;32m-> 1298\u001b[0;31m                 \u001b[0;32mraise\u001b[0m \u001b[0mKeyError\u001b[0m\u001b[0;34m(\u001b[0m\u001b[0;34mf\"None of [{key}] are in the [{axis_name}]\"\u001b[0m\u001b[0;34m)\u001b[0m\u001b[0;34m\u001b[0m\u001b[0;34m\u001b[0m\u001b[0m\n\u001b[0m\u001b[1;32m   1299\u001b[0m \u001b[0;34m\u001b[0m\u001b[0m\n\u001b[1;32m   1300\u001b[0m             \u001b[0;31m# We (temporarily) allow for some missing keys with .loc, except in\u001b[0m\u001b[0;34m\u001b[0m\u001b[0;34m\u001b[0m\u001b[0;34m\u001b[0m\u001b[0m\n",
      "\u001b[0;31mKeyError\u001b[0m: \"None of [Index(['sex'], dtype='object')] are in the [columns]\""
     ]
    }
   ],
   "source": [
    "df[['sex']]"
   ]
  },
  {
   "cell_type": "markdown",
   "metadata": {},
   "source": [
    "The current working directory (cwd) of Python is where the program will look for data files. First, find out what the current working directory of Python is:"
   ]
  },
  {
   "cell_type": "code",
   "execution_count": 111,
   "metadata": {},
   "outputs": [
    {
     "name": "stdout",
     "output_type": "stream",
     "text": [
      "/Users/luchens/Documents/jupyter-notebooks\n"
     ]
    }
   ],
   "source": [
    "import os\n",
    "print(os.getcwd())"
   ]
  },
  {
   "cell_type": "markdown",
   "metadata": {},
   "source": [
    "If you want to change the current working directory, use the chdir command of the os package to do so. Here is how to change the current working directory (the expression in quotes is the path to the new working directory — it will be a different path for you, of course):"
   ]
  },
  {
   "cell_type": "code",
   "execution_count": 10,
   "metadata": {},
   "outputs": [
    {
     "name": "stdout",
     "output_type": "stream",
     "text": [
      "/Users/luchens/Documents/Data\n"
     ]
    }
   ],
   "source": [
    "os.chdir('/Users/luchens/Documents/Data/')\n",
    "print(os.getcwd())"
   ]
  },
  {
   "cell_type": "markdown",
   "metadata": {},
   "source": [
    "To display the files and directories in the working directory:"
   ]
  },
  {
   "cell_type": "code",
   "execution_count": 27,
   "metadata": {},
   "outputs": [
    {
     "data": {
      "text/plain": [
       "['odometerprice_scatter.pdf',\n",
       " 'pwt91.dta',\n",
       " 'nba2011.csv',\n",
       " 'FPP2007_Chapter3Table1.csv',\n",
       " 'Potatoes.csv',\n",
       " '2002.txt',\n",
       " 'ECN307-web-app-3-3.csv',\n",
       " 'AAPL-data.csv',\n",
       " 'Rents-Meath-Mark-2.csv',\n",
       " 'Klein-Model-I.txt',\n",
       " '.Rhistory',\n",
       " 'ECB-securities-held-for-monetary-policy-purposes.numbers',\n",
       " 'euro_area_C.txt',\n",
       " 'script_ver2.txt',\n",
       " 'Mankiw2016_Chapter_04_handout.pdf',\n",
       " 'Grades_Fall_2006_prog.txt',\n",
       " 'Bubble_plot.txt',\n",
       " 'myplot.png',\n",
       " 'Backup of ECB-refi-time-series.numbers',\n",
       " 'duquette_tastdb_expanded.csv',\n",
       " 'galton_heights_197_families.txt',\n",
       " 'WorldBank2006Wealth.csv',\n",
       " 'natural_resources_list_of_variables.pdf',\n",
       " '2003.txt',\n",
       " 'pearson.csv',\n",
       " 'pwt90.dta',\n",
       " 'STA101_2007F_Assignment2.txt',\n",
       " 'Penn World Table',\n",
       " '2001.txt',\n",
       " 'Penn_World_Table_from_STATA_dta_file.R',\n",
       " 'graph4-10.png',\n",
       " 'Interest_Rates.xlsx',\n",
       " 'ECN201_Germany_unemployment_rate_BLS_2011.csv',\n",
       " 'Kazmier-1995-problem-14-1.csv',\n",
       " 'Days Data copy.csv',\n",
       " 'script_ver1.txt',\n",
       " 'MOOC-CompletionRates-Survey-Responses-curated.xlsx',\n",
       " 'Splits_Parijs_2011_Luc.csv',\n",
       " 'list_of_country_data_sets.xls',\n",
       " 'LSE-trades.csv',\n",
       " 'Macro-Model.txt',\n",
       " 'Gujarati-2003-table-2-1.csv',\n",
       " 'ECN201-disinflation-in-Brazil.csv',\n",
       " 'Klein_Model_SAS.txt',\n",
       " 'Armagh Rents Mark IV.csv',\n",
       " 'annual-return-AAPL.csv',\n",
       " '2000.txt',\n",
       " 'Honesty requires time.sps',\n",
       " 'map-test.png',\n",
       " '2004.txt',\n",
       " 'weil_labdata_2e_final.csv',\n",
       " 'weil_lab_data.csv',\n",
       " '.DS_Store',\n",
       " 'UPDATED VERSION 2005-2012 budgetpanel_hh_20181221v13.dta',\n",
       " 'AAPL-HistoricalQuotes.numbers',\n",
       " 'no-of-plants-time-series-by-group.pdf',\n",
       " 'Days_distances_1820-1829.csv',\n",
       " 'pearsonrounded.csv',\n",
       " 'intentional-homocides.csv',\n",
       " 'dataset_tobacco_2.csv',\n",
       " 'PBoC-reserve-requirement-ratio-data.csv',\n",
       " '1_data.csv~',\n",
       " 'Gujarati_2003_Table_8-8.csv',\n",
       " 'Lloyds-formula.csv',\n",
       " 'STA201-multiple-regression-example.ods',\n",
       " 'Productivity_Databook_IS-28_DB2008.pdf',\n",
       " 'general-government-gross-debt.csv',\n",
       " 'ChowLi2002_5869excluded.csv',\n",
       " 'Splits_Brussel_2014.csv',\n",
       " '2005.txt',\n",
       " 'Weil (2009)',\n",
       " 'pwt90_user_guide.pdf',\n",
       " 'budgetpanel_hh_20181221v13.dta',\n",
       " 'pwt91.txt',\n",
       " 'Tour-de-France-2015.csv',\n",
       " 'Kazmier-1995-table-15-3.numbers',\n",
       " 'pipo2.pdf',\n",
       " 'AAPL-data',\n",
       " 'China_OFDI_2006_R.ods',\n",
       " 'CEPII distance data',\n",
       " 'OFDI2006.csv',\n",
       " 'Australia.GDP.txt',\n",
       " 'OECD-prices-cpi.csv',\n",
       " 'Gujarati-2003-table-15-1.csv',\n",
       " 'regression-example-1-p-132.csv',\n",
       " 'ECN201-assignment-2-Australia-Michael-Rusk.txt',\n",
       " 'IMF-CPI-and-GDP-deflator.xlsx',\n",
       " 'OECD-quarterly-GDP.csv',\n",
       " 'table_7_2.csv',\n",
       " 'Peutervolgsysteem-2011-2012.ods',\n",
       " 'DowSP.csv',\n",
       " 'graph4-3.png',\n",
       " 'ECB-securities-held-for-monetary-policy-purposes.txt',\n",
       " 'Prices_Production_and_Labor.xlsx',\n",
       " '1_data.csv',\n",
       " 'Brazil-hyperinflation.csv',\n",
       " 'postdoc.txt',\n",
       " 'height_weight.txt',\n",
       " 'Gujarati_2003_Table_3-6.csv',\n",
       " 'ECN101B-2015S-juni.csv',\n",
       " 'ECN307-web-app-2-1.csv',\n",
       " 'TempleJohnson1998data.csv',\n",
       " 'graph4-2.png',\n",
       " 'ChowLi2002.csv',\n",
       " 'AAPL-data copy.csv',\n",
       " 'students.ods',\n",
       " 'GDP-data-Belgium-euro-area.numbers',\n",
       " 'Statman1987.csv',\n",
       " 'Gujarati_2003_Table_7-11.csv',\n",
       " 'OFDI2006HKGomitted.csv',\n",
       " 'students.xls',\n",
       " 'PBoC-reserve-requirement-ratio-data.numbers',\n",
       " 'GDP_and_Components.xlsx',\n",
       " 'STA201-multiple-regression-example-output.txt',\n",
       " 'test.csv',\n",
       " 'OECD-harmonized-unemployment-rate.csv',\n",
       " 'time-series.csv',\n",
       " 'demo_d.xpt',\n",
       " 'OstryBergTsangarides2014-data',\n",
       " 'Splits_Parijs_2011.csv',\n",
       " 'dataset_waves.csv',\n",
       " 'Brussel-2014-speed-splits.pdf',\n",
       " 'Honesty-requires-time.csv',\n",
       " 'Gujarati-2003-table-7-6.csv',\n",
       " '2018-02-27-2021-03-07-Afghanistan-Colombia-India-Iraq-Lebanon-Mali-Myanmar-Somalia.xlsx',\n",
       " 'graph4-1.png',\n",
       " 'China.OFDI.fitted',\n",
       " 'Utility_function.pdf',\n",
       " 'weil-sorted.csv',\n",
       " 'ECN302-Netherlands.csv',\n",
       " 'Debt Database Fall 2011 Vintage.xls',\n",
       " 'TestScriptInterpretingConfidenceInterval.R',\n",
       " 'results-for-OECD-countries.csv',\n",
       " 'newdata.txt',\n",
       " 'mandelbrot',\n",
       " 'graph4-5.png',\n",
       " 'ie_data_note_to_myself.txt',\n",
       " 'Rents-Carlow-Mark-2.csv',\n",
       " 'Historiek 1920 conv 2013.xls',\n",
       " 'FieldSamples.csv',\n",
       " 'Penn_World_Table_R_package_pwt.R',\n",
       " 'courseresults.csv',\n",
       " 'students.txt',\n",
       " 'PWT-append61.pdf',\n",
       " 'OstryBergTsangaridesYakhshilikov2018-supplementary-material',\n",
       " 'death_rates.csv',\n",
       " 'Backup of PBoC-reserve-requirement-time-series.numbers',\n",
       " 'graph4-4.png',\n",
       " 'eurostat-package-R.pdf',\n",
       " 'ECN304_lecture_01_Maddison_data.csv',\n",
       " 'TestScriptPlotNormalCurve.R',\n",
       " 'dkk.xml',\n",
       " 'CPIAUCNS.txt',\n",
       " 'odometerprice.csv',\n",
       " 'RCommander.txt',\n",
       " 'Backup of ECB-securities-held-for-monetary-policy purposes.numbers',\n",
       " 'ECB-refi-rate-data.numbers',\n",
       " 'weil_plotter_data.csv',\n",
       " 'RGraph1.pdf',\n",
       " 'list-of-countries-in-PWT-and-Changing-Wealth-of-Nations.txt',\n",
       " 'graph4-6.png',\n",
       " 'ie_data_CAPE.csv',\n",
       " 'usd.xml',\n",
       " 'Anselin-1988-table-12-1.txt',\n",
       " 'MOOC-CompletionRates-Survey-Responses-curated.txt',\n",
       " 'Stereo.csv',\n",
       " 'Days_1783-1791.csv',\n",
       " 'graph4-7.png',\n",
       " 'MOOC-CompletionRates-Survey-Responses.xlsx',\n",
       " 'demo_d.pdf',\n",
       " 'STA201-assignment-4-IFS-data.csv',\n",
       " 'China_OFDI_GDP_data.csv',\n",
       " 'USD-19990101-20111201.csv',\n",
       " 'wp10245.zip',\n",
       " 'OECD-long-term-interest-rate.csv',\n",
       " 'usersDocumentsgraph1.png',\n",
       " '1950.txt',\n",
       " 'Days_Data.xls',\n",
       " 'FPP2007_Chapter3RevEx11.csv',\n",
       " 'Kazmier-1995-table-15-3-C.csv',\n",
       " 'International_Trade_Assignment_1_US_data.csv',\n",
       " 'openness.csv',\n",
       " 'Pakistan_ToT.csv',\n",
       " 'general-government-gross-debt.xls',\n",
       " 'Brazil_ToT.csv',\n",
       " 'Days-Data-20130507.csv',\n",
       " 'KLEIN-RATS-PRG.txt',\n",
       " 'Backup of GDP-data-Belgium-euro-area.numbers',\n",
       " 'nor.txt',\n",
       " '1951.txt',\n",
       " 'Gujarati_2003_Table_9-4.csv',\n",
       " 'world-cup-goals.csv',\n",
       " 'Backup of ES-11221_Grades2010F_2nd_session.numbers',\n",
       " 'Kazmier-1995-table-15-3.csv',\n",
       " 'aaa1_data.csv',\n",
       " '1953.txt',\n",
       " 'graph4-9.png',\n",
       " 'Cars_example.txt',\n",
       " 'Stock-returns.csv',\n",
       " 'NOR-R-Console.pdf',\n",
       " 'productionsites.txt',\n",
       " 'WeilLabData2011FinalRevised.csv',\n",
       " 'graph4-8.png',\n",
       " 'summary-Pooled.txt',\n",
       " '1952.txt',\n",
       " 'Kazmier-1995-table-15-2.csv',\n",
       " '1_data_revised.csv',\n",
       " 'STA201-multiple-regression-example.csv',\n",
       " 'happiness.csv',\n",
       " 'GDP-quarterly-Belgium.csv',\n",
       " 'STA201-multiple-regression-example.numbers',\n",
       " 'pwt91.csv',\n",
       " 'Wages-and-DevWP2.txt',\n",
       " 'BMI.R',\n",
       " 'OFDI2006.txt',\n",
       " 'WeilLabData2011FinalRevised.numbers',\n",
       " 'STA101_2008S_midterm_exam_statistics.txt',\n",
       " 'Grades_Fall_2006_data.csv',\n",
       " 'ECN201_2007F_scores.csv',\n",
       " 'AAPL-HistoricalQuotes.csv',\n",
       " 'Rents-Blackwater-Mark-I.csv',\n",
       " 'Honesty requires time.sav',\n",
       " 'Backup of AAPL jaarlijkse opbrengstvoet.numbers',\n",
       " 'natural-resources-20210411.csv',\n",
       " 'aaa_test',\n",
       " 'duquette_tastdb_expanded.dta',\n",
       " 'dataset_tobacco_combined.csv',\n",
       " 'AAPL jaarlijkse opbrengstvoet.numbers',\n",
       " 'graph3.png',\n",
       " 'Introduction-to-Macroeconomics-Module-03.csv',\n",
       " 'ECN307_webapp-2-1-gdp.ods',\n",
       " 'car-plants-time-series.csv',\n",
       " 'Days_distances_1783-1791.csv',\n",
       " '1955.txt',\n",
       " 'NORplot.pdf',\n",
       " 'Lisa_R_20071110.txt',\n",
       " 'Safety.csv',\n",
       " 'odometerprice_scatter.bmp',\n",
       " 'ECB-refi-rate-data.csv',\n",
       " 'Gujarati_2003_Table_10-7.csv',\n",
       " 'UK_GDP_volume_quarterly',\n",
       " 'summary.tex',\n",
       " 'STA101Simajustnumbers.txt',\n",
       " 'ECN201-Neverland.csv',\n",
       " 'Weil (2005)',\n",
       " 'weil2.txt)',\n",
       " 'OECD-narrow-money-m1.csv',\n",
       " 'CPI-Belgium-1920-hist-base-2004.csv',\n",
       " 'Gujarati 2003 Data disk',\n",
       " 'SimaSTA101.txt',\n",
       " 'EAI.csv',\n",
       " '1954.txt',\n",
       " 'DKK-19990101-20111201.csv',\n",
       " 'Balassa-1963-data.csv alias',\n",
       " 'dataset_waves_2.csv',\n",
       " 'ES-11221_Grades2010F_2nd_session.numbers',\n",
       " 'Mobile_telephone_Australia.csv',\n",
       " '2018-02-27-2021-03-07-Afghanistan-Colombia-India-Iraq-Lebanon-Mali-Myanmar-Somalia.csv',\n",
       " 'OECD-exchange-rate.csv',\n",
       " 'test.txt',\n",
       " 'Data-for-kernel-densities.csv',\n",
       " 'ECN302-Netherlands.numbers',\n",
       " 'SuperBowl.txt',\n",
       " 'compute-average-annual-growth-rate.R',\n",
       " 'STA201-assignment-4-PWT-data.csv',\n",
       " 'Birthrates_rev.csv',\n",
       " 'WIR_2007_major_FDI_indicators.ods',\n",
       " 'NOR-R-Console.txt',\n",
       " 'filename',\n",
       " 'whatever.eps',\n",
       " 'bernankegurkaynak',\n",
       " 'Cameroon-exports-1994.csv',\n",
       " 'test-scores-of-100-job-applicants.txt',\n",
       " 'hulp.csv',\n",
       " 'Harmonized-unemployment-rate-Belgium-OECD-data.csv',\n",
       " 'Gujarati 1995 Data disk',\n",
       " 'pwt91.xlsx',\n",
       " 'Real-and-nominal-interest-rates-Belgium-OECD-data.numbers',\n",
       " 'Production_function.txt',\n",
       " 'Houses.csv.txt',\n",
       " 'R Console meme 4000 dollars corporate subsidies.txt',\n",
       " 'Armagh Rents Mark II.csv',\n",
       " 'NBA-2010-regular-season.csv',\n",
       " 'Interest.parity.txt',\n",
       " 'Printers.csv',\n",
       " 'ECB-securities-held-for-monetary-policy-purposes.csv',\n",
       " 'Ship-Speeds-Data-Set-20130717.csv',\n",
       " 'MOOC-CompletionRates-Survey-Responses-mail-201810xx.pdf',\n",
       " 'Real-and-nominal-interest-rates-Belgium-OECD-data.csv',\n",
       " 'Gujarati_2003_T11-5.5.csv',\n",
       " 'Seaports-of-the-World.txt',\n",
       " 'Days-distances.xls',\n",
       " 'FroehlichAirports.csv',\n",
       " 'Ship-Speeds-Data-Set-20131025.csv',\n",
       " 'OECD-inflation-cpi.csv',\n",
       " 'OFDIfitted.csv',\n",
       " 'data',\n",
       " 'nor.R',\n",
       " 'Lisa_R_20071110.pdf',\n",
       " 'grades.csv',\n",
       " 'pwt-without-country.csv',\n",
       " 'ECN101B-2015S-juni.xls',\n",
       " 'productionsites-20150420.txt',\n",
       " 'Gujarati-table-02-01.csv',\n",
       " 'Cameroon-gravity-model.csv',\n",
       " 'list-of-countries-in-pwt.txt',\n",
       " 'FPP2007_Chapter6Table1.csv',\n",
       " 'AAPL.csv',\n",
       " 'Backup of AAPL_HistoricalQuotes.numbers',\n",
       " 'dataset_tobacco.csv',\n",
       " 'ie_data.xls',\n",
       " 'MOOC-CompletionRates-Survey-Responses-curated.csv',\n",
       " 'MOOC-CompletionRates-Survey-Responses-curated.numbers',\n",
       " 'Blanchard-10-7.csv',\n",
       " 'Gujarati_2003_Table_16_1.csv',\n",
       " 'Days_1820-1829.csv',\n",
       " 'Chow & Li (2002) Table 1.xls',\n",
       " 'ECN507_Assignment_1_FI.csv',\n",
       " 'BARLEE',\n",
       " 'pwt9.pdf',\n",
       " 'ECB-refi-EN-header.pdf',\n",
       " 'Birthrates.csv',\n",
       " 'population-data.csv',\n",
       " 'Peutervolgsysteem-2011-2012.csv',\n",
       " 'Houses.data.txt',\n",
       " 'Rents-Sligo-Mark-I.csv',\n",
       " 'Kazmier-1995-table-14-6.csv',\n",
       " 'ECB-refi-EN.pdf',\n",
       " 'new_data.txt',\n",
       " 'students.csv',\n",
       " 'new-data.csv',\n",
       " 'Rents-Meath-Mark-I.csv',\n",
       " 'US_PWT7_CAPITALPERWORKER.csv',\n",
       " 'Sector.data.txt',\n",
       " 'pwt8.pdf',\n",
       " 'Armagh Rents Mark III.csv',\n",
       " 'new  2.txt',\n",
       " 'ECN307-web-app-2-1.ods',\n",
       " 'list-of-poor-and-rich-countries.txt']"
      ]
     },
     "execution_count": 27,
     "metadata": {},
     "output_type": "execute_result"
    }
   ],
   "source": [
    "os.listdir()"
   ]
  },
  {
   "cell_type": "code",
   "execution_count": null,
   "metadata": {},
   "outputs": [],
   "source": []
  }
 ],
 "metadata": {
  "kernelspec": {
   "display_name": "Python 3",
   "language": "python",
   "name": "python3"
  },
  "language_info": {
   "codemirror_mode": {
    "name": "ipython",
    "version": 3
   },
   "file_extension": ".py",
   "mimetype": "text/x-python",
   "name": "python",
   "nbconvert_exporter": "python",
   "pygments_lexer": "ipython3",
   "version": "3.8.5"
  }
 },
 "nbformat": 4,
 "nbformat_minor": 4
}
